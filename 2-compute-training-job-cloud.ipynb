{
  "cells": [
    {
      "attachments": {},
      "cell_type": "markdown",
      "metadata": {},
      "source": [
        "## Task 1: Create a cloud client"
      ]
    },
    {
      "cell_type": "code",
      "execution_count": 10,
      "metadata": {
        "gather": {
          "logged": 1682024274665
        }
      },
      "outputs": [
        {
          "name": "stderr",
          "output_type": "stream",
          "text": [
            "Found the config file in: /home/bstollnitz/git/config.json\n"
          ]
        }
      ],
      "source": [
        "from azure.ai.ml import MLClient\n",
        "from azure.identity import DefaultAzureCredential\n",
        "\n",
        "credential = DefaultAzureCredential()\n",
        "ml_client = MLClient.from_config(credential=credential)"
      ]
    },
    {
      "attachments": {},
      "cell_type": "markdown",
      "metadata": {},
      "source": [
        "## Task 2: Register the training data"
      ]
    },
    {
      "cell_type": "code",
      "execution_count": 11,
      "metadata": {},
      "outputs": [],
      "source": [
        "from azure.ai.ml.entities import Data\n",
        "from azure.ai.ml.constants import AssetTypes\n",
        "\n",
        "DATA_NAME = 'hospital_train_parquet'\n",
        "\n",
        "training_data = Data(\n",
        "    name=DATA_NAME,\n",
        "    path='data/training_data.parquet',\n",
        "    type=AssetTypes.URI_FILE,\n",
        "    description='RAI hospital train data'\n",
        ")\n",
        "tr_data = ml_client.data.create_or_update(training_data)"
      ]
    },
    {
      "attachments": {},
      "cell_type": "markdown",
      "metadata": {},
      "source": [
        "## Task 3: Create a compute cluster"
      ]
    },
    {
      "cell_type": "code",
      "execution_count": 12,
      "metadata": {
        "gather": {
          "logged": 1682024276497
        },
        "jupyter": {
          "outputs_hidden": false,
          "source_hidden": false
        },
        "nteract": {
          "transient": {
            "deleting": false
          }
        }
      },
      "outputs": [
        {
          "data": {
            "text/plain": [
              "<azure.core.polling._poller.LROPoller at 0x7f6d15498220>"
            ]
          },
          "execution_count": 12,
          "metadata": {},
          "output_type": "execute_result"
        }
      ],
      "source": [
        "from azure.ai.ml.entities import AmlCompute\n",
        "\n",
        "COMPUTE_NAME = 'trainingcompute'\n",
        "\n",
        "my_compute = AmlCompute(\n",
        "    name=COMPUTE_NAME,\n",
        "    size='Standard_DS2_v2',\n",
        "    min_instances=0,\n",
        "    max_instances=4,\n",
        "    idle_time_before_scale_down=3600\n",
        ")\n",
        "ml_client.compute.begin_create_or_update(my_compute)"
      ]
    },
    {
      "attachments": {},
      "cell_type": "markdown",
      "metadata": {},
      "source": [
        "## Task 4: Create the job"
      ]
    },
    {
      "cell_type": "code",
      "execution_count": 13,
      "metadata": {},
      "outputs": [
        {
          "name": "stderr",
          "output_type": "stream",
          "text": [
            "\u001b[32mUploading src (0.0 MBs): 100%|██████████| 2234/2234 [00:00<00:00, 150610.40it/s]\n",
            "\u001b[39m\n",
            "\n"
          ]
        },
        {
          "name": "stdout",
          "output_type": "stream",
          "text": [
            "RunId: gentle_fennel_6myjpb0n20\n",
            "Web View: https://ml.azure.com/runs/gentle_fennel_6myjpb0n20?wsid=/subscriptions/92a04f75-fa76-4b98-bc2e-ac45670d4044/resourcegroups/rg-bstollnitz/workspaces/mlws-bstollnitz\n",
            "\n",
            "Execution Summary\n",
            "=================\n",
            "RunId: gentle_fennel_6myjpb0n20\n",
            "Web View: https://ml.azure.com/runs/gentle_fennel_6myjpb0n20?wsid=/subscriptions/92a04f75-fa76-4b98-bc2e-ac45670d4044/resourcegroups/rg-bstollnitz/workspaces/mlws-bstollnitz\n",
            "\n"
          ]
        }
      ],
      "source": [
        "from azure.ai.ml import command, Input, Output\n",
        "\n",
        "TARGET_COLUMN_NAME = 'readmit_status'\n",
        "\n",
        "# Create the job.\n",
        "job = command(\n",
        "    description='Trains hospital readmission model',\n",
        "    experiment_name='hospital_readmission',\n",
        "    compute=COMPUTE_NAME,\n",
        "    inputs=dict(training_data=Input(type='uri_file', path=f'{DATA_NAME}@latest'), \n",
        "                target_column_name=TARGET_COLUMN_NAME),\n",
        "    outputs=dict(model_output=Output(type=AssetTypes.MLFLOW_MODEL)),\n",
        "    code='src/',\n",
        "    environment='azureml://registries/azureml/environments/AzureML-responsibleai-0.20-ubuntu20.04-py38-cpu/versions/4',\n",
        "    command='python train.py ' + \n",
        "            '--training_data ${{inputs.training_data}} ' +\n",
        "            '--target_column_name ${{inputs.target_column_name}} ' +\n",
        "            '--model_output ${{outputs.model_output}}'\n",
        ")\n",
        "job = ml_client.jobs.create_or_update(job)\n",
        "ml_client.jobs.stream(job.name)"
      ]
    },
    {
      "attachments": {},
      "cell_type": "markdown",
      "metadata": {},
      "source": [
        "## Task 5: Register the model"
      ]
    },
    {
      "cell_type": "code",
      "execution_count": 16,
      "metadata": {},
      "outputs": [],
      "source": [
        "from azure.ai.ml.entities import Model\n",
        "\n",
        "MODEL_NAME = 'hospital_readmission_model'\n",
        "\n",
        "# Register the model.\n",
        "model_path = f\"azureml://jobs/{job.name}/outputs/model_output\"\n",
        "model = Model(name=MODEL_NAME,\n",
        "                path=model_path,\n",
        "                type=AssetTypes.MLFLOW_MODEL)\n",
        "registered_model = ml_client.models.create_or_update(model)"
      ]
    },
    {
      "attachments": {},
      "cell_type": "markdown",
      "metadata": {},
      "source": [
        "## Task 6: Deploy the model"
      ]
    },
    {
      "cell_type": "code",
      "execution_count": 17,
      "metadata": {},
      "outputs": [
        {
          "name": "stderr",
          "output_type": "stream",
          "text": [
            "Check: endpoint hospital-readmission-endpoint exists\n",
            "data_collector is not a known attribute of class <class 'azure.ai.ml._restclient.v2022_02_01_preview.models._models_py3.ManagedOnlineDeployment'> and will be ignored\n",
            "Creating/updating online deployment blue "
          ]
        },
        {
          "name": "stdout",
          "output_type": "stream",
          "text": [
            "......................................................................................................"
          ]
        },
        {
          "name": "stderr",
          "output_type": "stream",
          "text": [
            "Done (8m 58s)\n"
          ]
        },
        {
          "data": {
            "text/plain": [
              "ManagedOnlineEndpoint({'public_network_access': 'Enabled', 'provisioning_state': 'Succeeded', 'scoring_uri': 'https://hospital-readmission-endpoint.westus2.inference.ml.azure.com/score', 'swagger_uri': 'https://hospital-readmission-endpoint.westus2.inference.ml.azure.com/swagger.json', 'name': 'hospital-readmission-endpoint', 'description': None, 'tags': {}, 'properties': {'azureml.onlineendpointid': '/subscriptions/92a04f75-fa76-4b98-bc2e-ac45670d4044/resourcegroups/rg-bstollnitz/providers/microsoft.machinelearningservices/workspaces/mlws-bstollnitz/onlineendpoints/hospital-readmission-endpoint', 'AzureAsyncOperationUri': 'https://management.azure.com/subscriptions/92a04f75-fa76-4b98-bc2e-ac45670d4044/providers/Microsoft.MachineLearningServices/locations/westus2/mfeOperationsStatus/oe:4b0cadf3-7f66-44b6-ad51-ad8d6f93d8d5:ea31256c-5c3d-44c1-83b6-2e48f77596ce?api-version=2022-02-01-preview'}, 'id': '/subscriptions/92a04f75-fa76-4b98-bc2e-ac45670d4044/resourceGroups/rg-bstollnitz/providers/Microsoft.MachineLearningServices/workspaces/mlws-bstollnitz/onlineEndpoints/hospital-readmission-endpoint', 'Resource__source_path': None, 'base_path': '/home/bstollnitz/git/BUILD-AzureML-workshop', 'creation_context': None, 'serialize': <msrest.serialization.Serializer object at 0x7f6d16516bb0>, 'auth_mode': 'key', 'location': 'westus2', 'identity': <azure.ai.ml._restclient.v2022_02_01_preview.models._models_py3.ManagedServiceIdentity object at 0x7f6d16516910>, 'traffic': {'blue': 100}, 'mirror_traffic': {}, 'kind': 'Managed'})"
            ]
          },
          "execution_count": 17,
          "metadata": {},
          "output_type": "execute_result"
        }
      ],
      "source": [
        "from azure.ai.ml.entities import ManagedOnlineDeployment, ManagedOnlineEndpoint \n",
        "\n",
        "ENDPOINT_NAME = 'hospital-readmission-endpoint'\n",
        "DEPLOYMENT_NAME = 'blue'\n",
        "\n",
        "# Create the managed online endpoint.\n",
        "endpoint = ManagedOnlineEndpoint(\n",
        "    name=ENDPOINT_NAME,\n",
        "    auth_mode='key',\n",
        ")\n",
        "registered_endpoint = ml_client.online_endpoints.begin_create_or_update(\n",
        "    endpoint)\n",
        "\n",
        "# Create the managed online deployment.\n",
        "deployment = ManagedOnlineDeployment(name=DEPLOYMENT_NAME,\n",
        "                                        endpoint_name=ENDPOINT_NAME,\n",
        "                                        model=registered_model,\n",
        "                                        instance_type='Standard_DS4_v2',\n",
        "                                        instance_count=1)\n",
        "ml_client.online_deployments.begin_create_or_update(deployment)\n",
        "\n",
        "# Set deployment traffic to 100%.\n",
        "registered_endpoint.traffic = {DEPLOYMENT_NAME: 100}\n",
        "ml_client.online_endpoints.begin_create_or_update(\n",
        "    registered_endpoint)"
      ]
    },
    {
      "attachments": {},
      "cell_type": "markdown",
      "metadata": {},
      "source": [
        "## Task 7: Invoke the endpoint"
      ]
    },
    {
      "cell_type": "code",
      "execution_count": 18,
      "metadata": {},
      "outputs": [
        {
          "name": "stdout",
          "output_type": "stream",
          "text": [
            "[\"not readmitted\"]\n"
          ]
        }
      ],
      "source": [
        "TEST_DATA_PATH=\"test_data.json\"\n",
        "\n",
        "# Invoke the endpoint.\n",
        "result = ml_client.online_endpoints.invoke(endpoint_name=ENDPOINT_NAME, request_file=TEST_DATA_PATH)\n",
        "print(result)"
      ]
    },
    {
      "cell_type": "code",
      "execution_count": null,
      "metadata": {},
      "outputs": [],
      "source": []
    }
  ],
  "metadata": {
    "kernel_info": {
      "name": "python3"
    },
    "kernelspec": {
      "display_name": "Python 3 (ipykernel)",
      "language": "python",
      "name": "python3"
    },
    "language_info": {
      "codemirror_mode": {
        "name": "ipython",
        "version": 3
      },
      "file_extension": ".py",
      "mimetype": "text/x-python",
      "name": "python",
      "nbconvert_exporter": "python",
      "pygments_lexer": "ipython3",
      "version": "3.9.12"
    },
    "microsoft": {
      "host": {
        "AzureML": {
          "notebookHasBeenCompleted": true
        }
      },
      "ms_spell_check": {
        "ms_spell_check_language": "en"
      }
    },
    "nteract": {
      "version": "nteract-front-end@1.0.0"
    }
  },
  "nbformat": 4,
  "nbformat_minor": 1
}
