{
  "cells": [
    {
      "cell_type": "code",
      "source": [
        "#conda install azure-common azure-ai-ml==0.1.0b7 mltable==0.1.0b4 azureml_dataprep azureml_dataprep_rslex responsibleai raiwidgets pandas pyarrow shap "
      ],
      "outputs": [],
      "execution_count": 1,
      "metadata": {
        "gather": {
          "logged": 1681948774995
        },
        "jupyter": {
          "outputs_hidden": false,
          "source_hidden": false
        },
        "nteract": {
          "transient": {
            "deleting": false
          }
        }
      }
    },
    {
      "cell_type": "code",
      "source": [
        "#pip install install azure-common azure-ai-ml==0.1.0b7 mltable==0.1.0b4 azureml_dataprep azureml_dataprep_rslex responsibleai raiwidgets pandas numpy sklearn pyarrow shap "
      ],
      "outputs": [],
      "execution_count": 2,
      "metadata": {
        "jupyter": {
          "source_hidden": false,
          "outputs_hidden": false
        },
        "nteract": {
          "transient": {
            "deleting": false
          }
        },
        "gather": {
          "logged": 1681948775567
        }
      }
    },
    {
      "cell_type": "code",
      "source": [
        "#pip install azureml-mlflow"
      ],
      "outputs": [],
      "execution_count": 3,
      "metadata": {
        "jupyter": {
          "source_hidden": false,
          "outputs_hidden": false
        },
        "nteract": {
          "transient": {
            "deleting": false
          }
        },
        "gather": {
          "logged": 1681948775729
        }
      }
    },
    {
      "cell_type": "code",
      "source": [
        "import warnings\n",
        "warnings.filterwarnings(\"ignore\")"
      ],
      "outputs": [],
      "execution_count": 4,
      "metadata": {
        "gather": {
          "logged": 1681948775882
        }
      }
    },
    {
      "cell_type": "code",
      "source": [
        "import pandas as pd\n",
        "import sklearn\n",
        "import zipfile\n",
        "from sklearn.model_selection import train_test_split\n",
        "from sklearn.linear_model import LogisticRegression\n",
        "from sklearn.ensemble import RandomForestRegressor"
      ],
      "outputs": [],
      "execution_count": 5,
      "metadata": {
        "gather": {
          "logged": 1681948776561
        },
        "scrolled": true
      }
    },
    {
      "cell_type": "code",
      "source": [
        "from azure.ai.ml import MLClient\n",
        "from azure.identity import DefaultAzureCredential\n",
        "from azure.ai.ml.entities import Environment, BuildContext\n",
        "from azureml.mlflow import register_model\n",
        "import mlflow\n",
        "import pandas as pd\n",
        "\n",
        "#subscription_id = \"<SUBSCRIPTION_ID>\"\n",
        "#resource_group = \"<RESOURCE_GROUP>\"\n",
        "#workspace = \"<AML_WORKSPACE_NAME>\"\n",
        "\n",
        "subscription_id = \"8a0f6419-1f4c-45b3-8d92-ee53be1ea443\"\n",
        "resource_group = \"demoRG\"\n",
        "workspace = \"aml-ws\"\n",
        "\n",
        "#connect to the workspace\n",
        "registry_name = \"azureml\"\n",
        "ml_client = MLClient(DefaultAzureCredential(), subscription_id, resource_group, workspace)"
      ],
      "outputs": [],
      "execution_count": 6,
      "metadata": {
        "gather": {
          "logged": 1681948777651
        }
      }
    },
    {
      "cell_type": "code",
      "source": [
        "rai_hospital_version_string = '8'\r\n",
        "version='1'"
      ],
      "outputs": [],
      "execution_count": 7,
      "metadata": {
        "jupyter": {
          "source_hidden": false,
          "outputs_hidden": false
        },
        "nteract": {
          "transient": {
            "deleting": false
          }
        },
        "gather": {
          "logged": 1681948777795
        }
      }
    },
    {
      "cell_type": "code",
      "source": [
        "compute_name = \"trainingcompute\""
      ],
      "outputs": [],
      "execution_count": 8,
      "metadata": {
        "gather": {
          "logged": 1681948777986
        },
        "jupyter": {
          "outputs_hidden": false,
          "source_hidden": false
        },
        "nteract": {
          "transient": {
            "deleting": false
          }
        }
      }
    },
    {
      "cell_type": "code",
      "source": [
        "from azure.ai.ml.entities import AmlCompute\n",
        "\n",
        "all_compute_names = [x.name for x in ml_client.compute.list()]\n",
        "\n",
        "if compute_name in all_compute_names:\n",
        "    print(f\"Found existing compute: {compute_name}\")\n",
        "else:\n",
        "    my_compute = AmlCompute(\n",
        "        name=compute_name,\n",
        "        size=\"Standard_DS2_v2\",\n",
        "        min_instances=0,\n",
        "        max_instances=4,\n",
        "        idle_time_before_scale_down=3600\n",
        "    )\n",
        "    ml_client.compute.begin_create_or_update(my_compute)\n",
        "    print(\"Initiated compute creation\")"
      ],
      "outputs": [
        {
          "output_type": "stream",
          "name": "stdout",
          "text": "Found existing compute: trainingcompute\n"
        }
      ],
      "execution_count": 9,
      "metadata": {
        "gather": {
          "logged": 1681948779470
        },
        "jupyter": {
          "outputs_hidden": false,
          "source_hidden": false
        },
        "nteract": {
          "transient": {
            "deleting": false
          }
        }
      }
    },
    {
      "cell_type": "code",
      "source": [
        "train_data = pd.read_parquet('data/training_data.parquet')\n",
        "test_data = pd.read_parquet('data/testing_data.parquet')"
      ],
      "outputs": [],
      "execution_count": 10,
      "metadata": {
        "gather": {
          "logged": 1681948779634
        },
        "jupyter": {
          "outputs_hidden": false,
          "source_hidden": false
        },
        "nteract": {
          "transient": {
            "deleting": false
          }
        }
      }
    },
    {
      "cell_type": "code",
      "source": [
        "target_column = \"readmit_status\""
      ],
      "outputs": [],
      "execution_count": 11,
      "metadata": {
        "gather": {
          "logged": 1681948779769
        },
        "jupyter": {
          "outputs_hidden": false,
          "source_hidden": false
        },
        "nteract": {
          "transient": {
            "deleting": false
          }
        }
      }
    },
    {
      "cell_type": "code",
      "source": [
        "display(train_data)"
      ],
      "outputs": [
        {
          "output_type": "display_data",
          "data": {
            "text/plain": "                  race  gender            age discharge_destination  \\\n67981        Caucasian  Female    30-60 years    Discharged to Home   \n26946        Caucasian  Female  Over 60 years    Discharged to Home   \n26274        Caucasian  Female  Over 60 years    Discharged to Home   \n83484         Hispanic    Male  Over 60 years    Discharged to Home   \n84356        Caucasian    Male    30-60 years    Discharged to Home   \n...                ...     ...            ...                   ...   \n75343        Caucasian  Female  Over 60 years                 Other   \n66471  AfricanAmerican  Female  Over 60 years                 Other   \n32307        Caucasian    Male    30-60 years    Discharged to Home   \n35421  AfricanAmerican  Female  Over 60 years                 Other   \n54263        Caucasian  Female    30-60 years    Discharged to Home   \n\n      admission_source  time_in_hospital  num_lab_procedures  num_procedures  \\\n67981            Other                14                  56               0   \n26946            Other                 4                  61               5   \n26274            Other                 7                  77               2   \n83484            Other                 3                  28               6   \n84356            Other                 1                  32               6   \n...                ...               ...                 ...             ...   \n75343            Other                 5                  60               0   \n66471            Other                 2                  34               0   \n32307            Other                 1                  61               0   \n35421            Other                 9                  44               3   \n54263            Other                 1                  34               0   \n\n       num_medications  prior_outpatient  ...  prior_inpatient  \\\n67981               13                 0  ...                1   \n26946                9                 0  ...                0   \n26274               13                 0  ...                0   \n83484                6                 0  ...                0   \n84356                9                 0  ...                0   \n...                ...               ...  ...              ...   \n75343                9                 0  ...                0   \n66471                8                 0  ...                4   \n32307                4                 0  ...                1   \n35421               18                 0  ...                4   \n54263                9                 0  ...                0   \n\n       primary_diagnosis number_diagnoses  max_glu_serum A1Cresult insulin  \\\n67981              Other                3           None      None      No   \n26946              Other                4           None      None      No   \n26274              Other                5           None      Norm  Steady   \n83484              Other                4           None      None      No   \n84356              Other                6           None      None      No   \n...                  ...              ...            ...       ...     ...   \n75343              Other                9           None      Norm      No   \n66471              Other                7           None      None      No   \n32307              Other                5           None      None  Steady   \n35421           Diabetes                9           None      None      No   \n54263              Other                6           None      None      No   \n\n      diabetes_Med_prescribe  readmit_status medicare  medicaid  \n67981                    Yes  not readmitted    False     False  \n26946                    Yes  not readmitted    False     False  \n26274                    Yes  not readmitted     True     False  \n83484                    Yes  not readmitted     True     False  \n84356                    Yes  not readmitted    False     False  \n...                      ...             ...      ...       ...  \n75343                    Yes      readmitted    False     False  \n66471                     No  not readmitted     True     False  \n32307                    Yes  not readmitted     True     False  \n35421                     No  not readmitted     True     False  \n54263                    Yes  not readmitted    False     False  \n\n[1392 rows x 21 columns]",
            "text/html": "<div>\n<style scoped>\n    .dataframe tbody tr th:only-of-type {\n        vertical-align: middle;\n    }\n\n    .dataframe tbody tr th {\n        vertical-align: top;\n    }\n\n    .dataframe thead th {\n        text-align: right;\n    }\n</style>\n<table border=\"1\" class=\"dataframe\">\n  <thead>\n    <tr style=\"text-align: right;\">\n      <th></th>\n      <th>race</th>\n      <th>gender</th>\n      <th>age</th>\n      <th>discharge_destination</th>\n      <th>admission_source</th>\n      <th>time_in_hospital</th>\n      <th>num_lab_procedures</th>\n      <th>num_procedures</th>\n      <th>num_medications</th>\n      <th>prior_outpatient</th>\n      <th>...</th>\n      <th>prior_inpatient</th>\n      <th>primary_diagnosis</th>\n      <th>number_diagnoses</th>\n      <th>max_glu_serum</th>\n      <th>A1Cresult</th>\n      <th>insulin</th>\n      <th>diabetes_Med_prescribe</th>\n      <th>readmit_status</th>\n      <th>medicare</th>\n      <th>medicaid</th>\n    </tr>\n  </thead>\n  <tbody>\n    <tr>\n      <th>67981</th>\n      <td>Caucasian</td>\n      <td>Female</td>\n      <td>30-60 years</td>\n      <td>Discharged to Home</td>\n      <td>Other</td>\n      <td>14</td>\n      <td>56</td>\n      <td>0</td>\n      <td>13</td>\n      <td>0</td>\n      <td>...</td>\n      <td>1</td>\n      <td>Other</td>\n      <td>3</td>\n      <td>None</td>\n      <td>None</td>\n      <td>No</td>\n      <td>Yes</td>\n      <td>not readmitted</td>\n      <td>False</td>\n      <td>False</td>\n    </tr>\n    <tr>\n      <th>26946</th>\n      <td>Caucasian</td>\n      <td>Female</td>\n      <td>Over 60 years</td>\n      <td>Discharged to Home</td>\n      <td>Other</td>\n      <td>4</td>\n      <td>61</td>\n      <td>5</td>\n      <td>9</td>\n      <td>0</td>\n      <td>...</td>\n      <td>0</td>\n      <td>Other</td>\n      <td>4</td>\n      <td>None</td>\n      <td>None</td>\n      <td>No</td>\n      <td>Yes</td>\n      <td>not readmitted</td>\n      <td>False</td>\n      <td>False</td>\n    </tr>\n    <tr>\n      <th>26274</th>\n      <td>Caucasian</td>\n      <td>Female</td>\n      <td>Over 60 years</td>\n      <td>Discharged to Home</td>\n      <td>Other</td>\n      <td>7</td>\n      <td>77</td>\n      <td>2</td>\n      <td>13</td>\n      <td>0</td>\n      <td>...</td>\n      <td>0</td>\n      <td>Other</td>\n      <td>5</td>\n      <td>None</td>\n      <td>Norm</td>\n      <td>Steady</td>\n      <td>Yes</td>\n      <td>not readmitted</td>\n      <td>True</td>\n      <td>False</td>\n    </tr>\n    <tr>\n      <th>83484</th>\n      <td>Hispanic</td>\n      <td>Male</td>\n      <td>Over 60 years</td>\n      <td>Discharged to Home</td>\n      <td>Other</td>\n      <td>3</td>\n      <td>28</td>\n      <td>6</td>\n      <td>6</td>\n      <td>0</td>\n      <td>...</td>\n      <td>0</td>\n      <td>Other</td>\n      <td>4</td>\n      <td>None</td>\n      <td>None</td>\n      <td>No</td>\n      <td>Yes</td>\n      <td>not readmitted</td>\n      <td>True</td>\n      <td>False</td>\n    </tr>\n    <tr>\n      <th>84356</th>\n      <td>Caucasian</td>\n      <td>Male</td>\n      <td>30-60 years</td>\n      <td>Discharged to Home</td>\n      <td>Other</td>\n      <td>1</td>\n      <td>32</td>\n      <td>6</td>\n      <td>9</td>\n      <td>0</td>\n      <td>...</td>\n      <td>0</td>\n      <td>Other</td>\n      <td>6</td>\n      <td>None</td>\n      <td>None</td>\n      <td>No</td>\n      <td>Yes</td>\n      <td>not readmitted</td>\n      <td>False</td>\n      <td>False</td>\n    </tr>\n    <tr>\n      <th>...</th>\n      <td>...</td>\n      <td>...</td>\n      <td>...</td>\n      <td>...</td>\n      <td>...</td>\n      <td>...</td>\n      <td>...</td>\n      <td>...</td>\n      <td>...</td>\n      <td>...</td>\n      <td>...</td>\n      <td>...</td>\n      <td>...</td>\n      <td>...</td>\n      <td>...</td>\n      <td>...</td>\n      <td>...</td>\n      <td>...</td>\n      <td>...</td>\n      <td>...</td>\n      <td>...</td>\n    </tr>\n    <tr>\n      <th>75343</th>\n      <td>Caucasian</td>\n      <td>Female</td>\n      <td>Over 60 years</td>\n      <td>Other</td>\n      <td>Other</td>\n      <td>5</td>\n      <td>60</td>\n      <td>0</td>\n      <td>9</td>\n      <td>0</td>\n      <td>...</td>\n      <td>0</td>\n      <td>Other</td>\n      <td>9</td>\n      <td>None</td>\n      <td>Norm</td>\n      <td>No</td>\n      <td>Yes</td>\n      <td>readmitted</td>\n      <td>False</td>\n      <td>False</td>\n    </tr>\n    <tr>\n      <th>66471</th>\n      <td>AfricanAmerican</td>\n      <td>Female</td>\n      <td>Over 60 years</td>\n      <td>Other</td>\n      <td>Other</td>\n      <td>2</td>\n      <td>34</td>\n      <td>0</td>\n      <td>8</td>\n      <td>0</td>\n      <td>...</td>\n      <td>4</td>\n      <td>Other</td>\n      <td>7</td>\n      <td>None</td>\n      <td>None</td>\n      <td>No</td>\n      <td>No</td>\n      <td>not readmitted</td>\n      <td>True</td>\n      <td>False</td>\n    </tr>\n    <tr>\n      <th>32307</th>\n      <td>Caucasian</td>\n      <td>Male</td>\n      <td>30-60 years</td>\n      <td>Discharged to Home</td>\n      <td>Other</td>\n      <td>1</td>\n      <td>61</td>\n      <td>0</td>\n      <td>4</td>\n      <td>0</td>\n      <td>...</td>\n      <td>1</td>\n      <td>Other</td>\n      <td>5</td>\n      <td>None</td>\n      <td>None</td>\n      <td>Steady</td>\n      <td>Yes</td>\n      <td>not readmitted</td>\n      <td>True</td>\n      <td>False</td>\n    </tr>\n    <tr>\n      <th>35421</th>\n      <td>AfricanAmerican</td>\n      <td>Female</td>\n      <td>Over 60 years</td>\n      <td>Other</td>\n      <td>Other</td>\n      <td>9</td>\n      <td>44</td>\n      <td>3</td>\n      <td>18</td>\n      <td>0</td>\n      <td>...</td>\n      <td>4</td>\n      <td>Diabetes</td>\n      <td>9</td>\n      <td>None</td>\n      <td>None</td>\n      <td>No</td>\n      <td>No</td>\n      <td>not readmitted</td>\n      <td>True</td>\n      <td>False</td>\n    </tr>\n    <tr>\n      <th>54263</th>\n      <td>Caucasian</td>\n      <td>Female</td>\n      <td>30-60 years</td>\n      <td>Discharged to Home</td>\n      <td>Other</td>\n      <td>1</td>\n      <td>34</td>\n      <td>0</td>\n      <td>9</td>\n      <td>0</td>\n      <td>...</td>\n      <td>0</td>\n      <td>Other</td>\n      <td>6</td>\n      <td>None</td>\n      <td>None</td>\n      <td>No</td>\n      <td>Yes</td>\n      <td>not readmitted</td>\n      <td>False</td>\n      <td>False</td>\n    </tr>\n  </tbody>\n</table>\n<p>1392 rows × 21 columns</p>\n</div>"
          },
          "metadata": {}
        }
      ],
      "execution_count": 12,
      "metadata": {
        "gather": {
          "logged": 1681948779934
        },
        "jupyter": {
          "outputs_hidden": false,
          "source_hidden": false
        },
        "nteract": {
          "transient": {
            "deleting": false
          }
        }
      }
    },
    {
      "cell_type": "code",
      "source": [
        "import os\n",
        "from azure.ai.ml.entities import Data\n",
        "from azure.ai.ml.constants import AssetTypes\n",
        "\n",
        "\n",
        "training_dataset_filename = 'hospital_train_parquet'\n",
        "testing_dataset_filename = 'hospital_test_parquet'\n",
        "\n",
        "\n",
        "training_data = Data(\n",
        "    name=training_dataset_filename,\n",
        "    path='data/training_data.parquet',\n",
        "    type=AssetTypes.URI_FILE,\n",
        "    description=\"RAI hospital  train data\",  \n",
        ")\n",
        "\n",
        "tr_data = ml_client.data.create_or_update(training_data)\n",
        "\n",
        "testing_data = Data(\n",
        "    name=testing_dataset_filename,\n",
        "    path='data/testing_data.parquet',\n",
        "    type=AssetTypes.URI_FILE,\n",
        "    description=\"RAI hospital  test data\",  \n",
        ")\n",
        "\n",
        "te_data = ml_client.data.create_or_update(testing_data)\n"
      ],
      "outputs": [],
      "execution_count": 13,
      "metadata": {
        "gather": {
          "logged": 1681948782476
        },
        "jupyter": {
          "outputs_hidden": false,
          "source_hidden": false
        },
        "nteract": {
          "transient": {
            "deleting": false
          }
        }
      }
    },
    {
      "cell_type": "code",
      "source": [
        "import os\n",
        "\n",
        "os.makedirs('component', exist_ok=True)\n",
        "os.makedirs('register_model_src', exist_ok=True)\n",
        "os.makedirs('environment', exist_ok=True)"
      ],
      "outputs": [],
      "execution_count": 14,
      "metadata": {
        "gather": {
          "logged": 1681948782643
        },
        "jupyter": {
          "outputs_hidden": false,
          "source_hidden": false
        },
        "nteract": {
          "transient": {
            "deleting": false
          }
        }
      }
    },
    {
      "cell_type": "code",
      "source": [
        "%%writefile component/hospital_training.py\n",
        "\n",
        "import argparse\n",
        "import os\n",
        "import shutil\n",
        "import tempfile\n",
        "\n",
        "from azureml.core import Run\n",
        "\n",
        "import mlflow\n",
        "import mlflow.sklearn\n",
        "\n",
        "import pandas as pd\n",
        "import numpy as np\n",
        "from sklearn.compose import make_column_selector as selector\n",
        "from sklearn.preprocessing import OneHotEncoder, OrdinalEncoder, StandardScaler\n",
        "from sklearn.compose import ColumnTransformer\n",
        "from sklearn.pipeline import Pipeline\n",
        "\n",
        "from sklearn.linear_model import LogisticRegression\n",
        "from sklearn.ensemble import RandomForestClassifier\n",
        "from sklearn.tree import DecisionTreeClassifier\n",
        "from sklearn.pipeline import make_pipeline\n",
        "from sklearn.model_selection import train_test_split\n",
        "\n",
        "\n",
        "\n",
        "def parse_args():\n",
        "    # setup arg parser\n",
        "    parser = argparse.ArgumentParser()\n",
        "\n",
        "    # add arguments\n",
        "    parser.add_argument(\"--training_data\", type=str, help=\"Path to training data\")\n",
        "    parser.add_argument(\"--target_column_name\", type=str, help=\"Name of target column\")\n",
        "    parser.add_argument(\"--model_output\", type=str, help=\"Path of output model\")\n",
        "\n",
        "    # parse args\n",
        "    args = parser.parse_args()    \n",
        "\n",
        "    # return args\n",
        "    return args\n",
        "\n",
        "def get_categorical_index(categorical_fields):\n",
        "    cat_idx = []\n",
        "    for col, value in categorical_fields.iteritems():\n",
        "        if value.dtype == 'object':\n",
        "            cat_idx.append(categorical_fields.columns.get_loc(col))\n",
        "    print(\"col indices: \", cat_idx)  \n",
        "    return cat_idx    \n",
        "\n",
        "\n",
        "\n",
        "def main(args):\n",
        "    current_experiment = Run.get_context().experiment\n",
        "    tracking_uri = current_experiment.workspace.get_mlflow_tracking_uri()\n",
        "    print(\"tracking_uri: {0}\".format(tracking_uri))\n",
        "    mlflow.set_tracking_uri(tracking_uri)\n",
        "    mlflow.set_experiment(current_experiment.name)\n",
        "\n",
        "    # Read in data\n",
        "    print(\"Reading data\")\n",
        "    all_training_data = pd.read_parquet(args.training_data)\n",
        "    target = all_training_data[args.target_column_name]\n",
        "    features = all_training_data.drop([args.target_column_name], axis = 1)  \n",
        "\n",
        "    # Transform string data to numeric\n",
        "    numerical_selector = selector(dtype_include=np.number)\n",
        "    categorical_selector = selector(dtype_exclude=np.number)\n",
        "\n",
        "    numerical_columns = numerical_selector(features)\n",
        "    categorical_columns = categorical_selector(features)\n",
        "\n",
        "    categorial_encoder = OneHotEncoder(handle_unknown=\"ignore\")\n",
        "    numerical_encoder = StandardScaler()\n",
        "\n",
        "    preprocessor = ColumnTransformer([\n",
        "    ('categorical-encoder', categorial_encoder, categorical_columns),\n",
        "    ('standard_scaler', numerical_encoder, numerical_columns)])\n",
        "\n",
        "    categorical_indices = get_categorical_index(features)\n",
        "    clf = make_pipeline(preprocessor, LogisticRegression())\n",
        "    \n",
        "\n",
        "    X_train, X_test, y_train, y_test = train_test_split(features, target, test_size=0.3, random_state=1)\n",
        "\n",
        "    print(\"Training model...\") \n",
        "    \n",
        "    model = clf.fit(X_train, y_train)\n",
        " \n",
        "    # Saving model with mlflow - leave this section unchanged\n",
        "    model_dir =  \"./model_output\"\n",
        "    with tempfile.TemporaryDirectory() as td:\n",
        "        print(\"Saving model with MLFlow to temporary directory\")\n",
        "        tmp_output_dir = os.path.join(td, model_dir)\n",
        "        mlflow.sklearn.save_model(sk_model=model, path=tmp_output_dir)\n",
        "\n",
        "        print(\"Copying MLFlow model to output path\")\n",
        "        for file_name in os.listdir(tmp_output_dir):\n",
        "            print(\"  Copying: \", file_name)\n",
        "            shutil.copy2(src=os.path.join(tmp_output_dir, file_name), dst=os.path.join(args.model_output, file_name))\n",
        "\n",
        "\n",
        "# run script\n",
        "if __name__ == \"__main__\":\n",
        "    # add space in logs\n",
        "    print(\"*\" * 60)\n",
        "    print(\"\\n\\n\")\n",
        "\n",
        "    # parse args\n",
        "    args = parse_args()\n",
        "\n",
        "    # run main function\n",
        "    main(args)\n",
        "\n",
        "    # add space in logs\n",
        "    print(\"*\" * 60)\n",
        "    print(\"\\n\\n\")"
      ],
      "outputs": [
        {
          "output_type": "stream",
          "name": "stdout",
          "text": "Overwriting component/hospital_training.py\n"
        }
      ],
      "execution_count": 15,
      "metadata": {
        "jupyter": {
          "outputs_hidden": false,
          "source_hidden": false
        },
        "nteract": {
          "transient": {
            "deleting": false
          }
        }
      }
    },
    {
      "cell_type": "code",
      "source": [
        "%%writefile register_model_src/model_register.py\n",
        "\n",
        "# ---------------------------------------------------------\n",
        "# Copyright (c) Microsoft Corporation. All rights reserved.\n",
        "# ---------------------------------------------------------\n",
        "\n",
        "import argparse\n",
        "import json\n",
        "import os\n",
        "import time\n",
        "\n",
        "\n",
        "from azureml.core import Run\n",
        "\n",
        "import mlflow\n",
        "import mlflow.sklearn\n",
        "\n",
        "# Based on example:\n",
        "# https://docs.microsoft.com/en-us/azure/machine-learning/how-to-train-cli\n",
        "# which references\n",
        "# https://github.com/Azure/azureml-examples/tree/main/cli/jobs/train/lightgbm/iris\n",
        "\n",
        "\n",
        "def parse_args():\n",
        "    # setup arg parser\n",
        "    parser = argparse.ArgumentParser()\n",
        "\n",
        "    # add arguments\n",
        "    parser.add_argument(\"--model_input_path\", type=str, help=\"Path to input model\")\n",
        "    parser.add_argument(\n",
        "        \"--model_info_output_path\", type=str, help=\"Path to write model info JSON\"\n",
        "    )\n",
        "    parser.add_argument(\n",
        "        \"--model_base_name\", type=str, help=\"Name of the registered model\"\n",
        "    )\n",
        "\n",
        "\n",
        "    # parse args\n",
        "    args = parser.parse_args()\n",
        "\n",
        "    # return args\n",
        "    return args\n",
        "\n",
        "\n",
        "def main(args):\n",
        "    current_experiment = Run.get_context().experiment\n",
        "    tracking_uri = current_experiment.workspace.get_mlflow_tracking_uri()\n",
        "    print(\"tracking_uri: {0}\".format(tracking_uri))\n",
        "    mlflow.set_tracking_uri(tracking_uri)\n",
        "    mlflow.set_experiment(current_experiment.name)\n",
        "\n",
        "    print(\"Loading model\")\n",
        "    mlflow_model = mlflow.sklearn.load_model(args.model_input_path)\n",
        "\n",
        "    registered_name = args.model_base_name\n",
        "    print(f\"Registering model as {registered_name}\")\n",
        "\n",
        "    print(\"Registering via MLFlow\")\n",
        "    mlflow.sklearn.log_model(\n",
        "        sk_model=mlflow_model,\n",
        "        registered_model_name=registered_name,\n",
        "        artifact_path=registered_name,\n",
        "    )\n",
        "\n",
        "    print(\"Writing JSON\")\n",
        "    dict = {\"id\": \"{0}:1\".format(registered_name)}\n",
        "    output_path = os.path.join(args.model_info_output_path, \"model_info.json\")\n",
        "    with open(output_path, \"w\") as of:\n",
        "        json.dump(dict, fp=of)\n",
        "\n",
        "\n",
        "# run script\n",
        "if __name__ == \"__main__\":\n",
        "    # add space in logs\n",
        "    print(\"*\" * 60)\n",
        "    print(\"\\n\\n\")\n",
        "\n",
        "    # parse args\n",
        "    args = parse_args()\n",
        "\n",
        "    # run main function\n",
        "    main(args)\n",
        "\n",
        "    # add space in logs\n",
        "    print(\"*\" * 60)\n",
        "    print(\"\\n\\n\")"
      ],
      "outputs": [
        {
          "output_type": "stream",
          "name": "stdout",
          "text": "Overwriting register_model_src/model_register.py\n"
        }
      ],
      "execution_count": 16,
      "metadata": {
        "jupyter": {
          "outputs_hidden": false,
          "source_hidden": false
        },
        "nteract": {
          "transient": {
            "deleting": false
          }
        }
      }
    },
    {
      "cell_type": "code",
      "source": [
        "from azure.ai.ml import load_component\n",
        "\n",
        "yaml_contents = f\"\"\"\n",
        "$schema: http://azureml/sdk-2-0/CommandComponent.json\n",
        "name: rai_training_component\n",
        "display_name: hospital  classification training component for RAI example\n",
        "version: {rai_hospital_version_string}\n",
        "type: command\n",
        "inputs:\n",
        "  training_data:\n",
        "    type: path\n",
        "  target_column_name:\n",
        "    type: string\n",
        "outputs:\n",
        "  model_output:\n",
        "    type: path\n",
        "code: ./component/\n",
        "environment: azureml://registries/azureml/environments/AzureML-responsibleai-0.20-ubuntu20.04-py38-cpu/versions/4\n",
        "\"\"\" + r\"\"\"\n",
        "command: >-\n",
        "  python hospital_training.py\n",
        "  --training_data ${{{{inputs.training_data}}}}\n",
        "  --target_column_name ${{{{inputs.target_column_name}}}}\n",
        "  --model_output ${{{{outputs.model_output}}}}\n",
        "\"\"\"\n",
        "\n",
        "yaml_filename = \"RAIhospitalClassificationTrainingComponent.yaml\"\n",
        "\n",
        "with open(yaml_filename, 'w') as f:\n",
        "    f.write(yaml_contents.format(yaml_contents))\n",
        "    \n",
        "train_component_definition = load_component(\n",
        "    source=yaml_filename\n",
        ")\n",
        "\n",
        "ml_client.components.create_or_update(train_component_definition)"
      ],
      "outputs": [
        {
          "output_type": "execute_result",
          "execution_count": 17,
          "data": {
            "text/plain": "CommandComponent({'auto_increment_version': False, 'source': 'REMOTE.WORKSPACE.COMPONENT', 'is_anonymous': False, 'name': 'rai_training_component', 'description': None, 'tags': {}, 'properties': {}, 'id': '/subscriptions/8a0f6419-1f4c-45b3-8d92-ee53be1ea443/resourceGroups/demoRG/providers/Microsoft.MachineLearningServices/workspaces/aml-ws/components/rai_training_component/versions/8', 'Resource__source_path': None, 'base_path': './', 'creation_context': <azure.ai.ml._restclient.v2022_05_01.models._models_py3.SystemData object at 0x7fef70616040>, 'serialize': <msrest.serialization.Serializer object at 0x7fef70703a60>, 'command': 'python hospital_training.py --training_data ${{inputs.training_data}} --target_column_name ${{inputs.target_column_name}} --model_output ${{outputs.model_output}}', 'code': '/subscriptions/8a0f6419-1f4c-45b3-8d92-ee53be1ea443/resourceGroups/demoRG/providers/Microsoft.MachineLearningServices/workspaces/aml-ws/codes/2b04ca47-e160-4a6f-8345-dcc160a87ba8/versions/1', 'environment_variables': None, 'environment': 'azureml://registries/azureml/environments/AzureML-responsibleai-0.20-ubuntu20.04-py38-cpu/versions/4', 'distribution': None, 'resources': {'instance_count': 1, 'properties': {}}, 'version': '8', 'latest_version': None, 'schema': 'http://azureml/sdk-2-0/CommandComponent.json', 'type': 'command', 'display_name': 'hospital  classification training component for RAI example', 'is_deterministic': True, 'inputs': {'training_data': {'type': 'path'}, 'target_column_name': {'type': 'string'}}, 'outputs': {'model_output': {'type': 'path'}}, 'yaml_str': None, 'other_parameter': {}, 'func': <function [component] hospital  classification training component for RAI example at 0x7fef706c9ee0>})"
          },
          "metadata": {}
        }
      ],
      "execution_count": 17,
      "metadata": {
        "gather": {
          "logged": 1681948785472
        },
        "scrolled": true
      }
    },
    {
      "cell_type": "code",
      "source": [
        "yaml_contents = f\"\"\"\n",
        "$schema: http://azureml/sdk-2-0/CommandComponent.json\n",
        "name: register_trained_model\n",
        "display_name: Register hospital Model\n",
        "version: {rai_hospital_version_string}\n",
        "type: command\n",
        "is_deterministic: False\n",
        "inputs:\n",
        "  model_input_path:\n",
        "    type: path\n",
        "  model_base_name:\n",
        "    type: string\n",
        "outputs:\n",
        "  model_info_output_path:\n",
        "    type: path\n",
        "code: ./register_model_src/\n",
        "environment: azureml://registries/azureml/environments/AzureML-responsibleai-0.20-ubuntu20.04-py38-cpu/versions/4\n",
        "command: >-\n",
        "  python model_register.py\n",
        "  --model_input_path ${{{{inputs.model_input_path}}}}\n",
        "  --model_base_name ${{{{inputs.model_base_name}}}}\n",
        "  --model_info_output_path ${{{{outputs.model_info_output_path}}}}\n",
        "\n",
        "\"\"\"\n",
        "yaml_filename = \"model_register.yaml\"\n",
        "\n",
        "with open(yaml_filename, 'w') as f:\n",
        "    f.write(yaml_contents)\n",
        "    \n",
        "register_component = load_component(\n",
        "    source=yaml_filename\n",
        ")\n",
        "\n",
        "ml_client.components.create_or_update(register_component)"
      ],
      "outputs": [
        {
          "output_type": "execute_result",
          "execution_count": 18,
          "data": {
            "text/plain": "CommandComponent({'auto_increment_version': False, 'source': 'REMOTE.WORKSPACE.COMPONENT', 'is_anonymous': False, 'name': 'register_trained_model', 'description': None, 'tags': {}, 'properties': {}, 'id': '/subscriptions/8a0f6419-1f4c-45b3-8d92-ee53be1ea443/resourceGroups/demoRG/providers/Microsoft.MachineLearningServices/workspaces/aml-ws/components/register_trained_model/versions/8', 'Resource__source_path': None, 'base_path': './', 'creation_context': <azure.ai.ml._restclient.v2022_05_01.models._models_py3.SystemData object at 0x7fef61fbe940>, 'serialize': <msrest.serialization.Serializer object at 0x7fef70703970>, 'command': 'python model_register.py --model_input_path ${{inputs.model_input_path}} --model_base_name ${{inputs.model_base_name}} --model_info_output_path ${{outputs.model_info_output_path}}', 'code': '/subscriptions/8a0f6419-1f4c-45b3-8d92-ee53be1ea443/resourceGroups/demoRG/providers/Microsoft.MachineLearningServices/workspaces/aml-ws/codes/54b49c2f-f0ea-4c09-818e-f956371ee7f1/versions/1', 'environment_variables': None, 'environment': 'azureml://registries/azureml/environments/AzureML-responsibleai-0.20-ubuntu20.04-py38-cpu/versions/4', 'distribution': None, 'resources': {'instance_count': 1, 'properties': {}}, 'version': '8', 'latest_version': None, 'schema': 'http://azureml/sdk-2-0/CommandComponent.json', 'type': 'command', 'display_name': 'Register hospital Model', 'is_deterministic': False, 'inputs': {'model_input_path': {'type': 'path'}, 'model_base_name': {'type': 'string'}}, 'outputs': {'model_info_output_path': {'type': 'path'}}, 'yaml_str': None, 'other_parameter': {}, 'func': <function [component] Register hospital Model at 0x7fef7067f310>})"
          },
          "metadata": {}
        }
      ],
      "execution_count": 18,
      "metadata": {
        "gather": {
          "logged": 1681948786477
        },
        "jupyter": {
          "outputs_hidden": false,
          "source_hidden": false
        },
        "nteract": {
          "transient": {
            "deleting": false
          }
        }
      }
    },
    {
      "cell_type": "code",
      "source": [
        "import time\n",
        "\n",
        "model_base_name = 'rai_hospital_model'"
      ],
      "outputs": [],
      "execution_count": 19,
      "metadata": {
        "gather": {
          "logged": 1681948786656
        },
        "jupyter": {
          "outputs_hidden": false,
          "source_hidden": false
        },
        "nteract": {
          "transient": {
            "deleting": false
          }
        }
      }
    },
    {
      "cell_type": "code",
      "source": [
        "from azure.ai.ml import dsl, Input\n",
        "\n",
        "\n",
        "hospital_train_parquet = Input(\n",
        "    type=\"uri_file\", path=\"data/training_data.parquet\", mode=\"download\"\n",
        ")\n",
        "\n",
        "hospital_test_parquet = Input(\n",
        "    type=\"uri_file\", path=\"data/testing_data.parquet\", mode=\"download\"\n",
        ")\n",
        "\n",
        "@dsl.pipeline(\n",
        "    compute=compute_name,\n",
        "    description=\"Register Model for RAI hospital \",\n",
        "    experiment_name=f\"RAI_hospital_Model_Training_{rai_hospital_version_string}\",\n",
        ")\n",
        "def my_training_pipeline(target_column_name, training_data):\n",
        "    trained_model = train_component_definition(\n",
        "        target_column_name=target_column_name,\n",
        "        training_data=training_data\n",
        "    )\n",
        "    trained_model.set_limits(timeout=120)\n",
        "\n",
        "    _ = register_component(\n",
        "        model_input_path=trained_model.outputs.model_output,\n",
        "        model_base_name=model_base_name,\n",
        "    )\n",
        "\n",
        "    return {}\n",
        "\n",
        "model_registration_pipeline_job = my_training_pipeline(target_column, hospital_train_parquet)"
      ],
      "outputs": [],
      "execution_count": 20,
      "metadata": {
        "gather": {
          "logged": 1681948786808
        },
        "jupyter": {
          "outputs_hidden": false,
          "source_hidden": false
        },
        "nteract": {
          "transient": {
            "deleting": false
          }
        }
      }
    },
    {
      "cell_type": "code",
      "source": [
        "from azure.ai.ml.entities import PipelineJob\n",
        "import webbrowser\n",
        "\n",
        "def submit_and_wait(ml_client, pipeline_job) -> PipelineJob:\n",
        "    created_job = ml_client.jobs.create_or_update(pipeline_job)\n",
        "    assert created_job is not None\n",
        "\n",
        "    while created_job.status not in ['Completed', 'Failed', 'Canceled', 'NotResponding']:\n",
        "        time.sleep(30)\n",
        "        created_job = ml_client.jobs.get(created_job.name)\n",
        "        print(\"Latest status : {0}\".format(created_job.status))\n",
        "\n",
        "\n",
        "    # open the pipeline in web browser\n",
        "    webbrowser.open(created_job.services[\"Studio\"].endpoint)\n",
        "    \n",
        "    #assert created_job.status == 'Completed'\n",
        "    return created_job\n",
        "\n",
        "# This is the actual submission\n",
        "training_job = submit_and_wait(ml_client, model_registration_pipeline_job)"
      ],
      "outputs": [
        {
          "output_type": "stream",
          "name": "stdout",
          "text": "Latest status : Running\nLatest status : Running\nLatest status : Running\nLatest status : Completed\n"
        }
      ],
      "execution_count": 21,
      "metadata": {
        "gather": {
          "logged": 1681948911509
        },
        "jupyter": {
          "outputs_hidden": false,
          "source_hidden": false
        },
        "nteract": {
          "transient": {
            "deleting": false
          }
        }
      }
    }
  ],
  "metadata": {
    "kernel_info": {
      "name": "python3"
    },
    "kernelspec": {
      "name": "python3",
      "language": "python",
      "display_name": "Python 3 (ipykernel)"
    },
    "language_info": {
      "name": "python",
      "version": "3.8.5",
      "mimetype": "text/x-python",
      "codemirror_mode": {
        "name": "ipython",
        "version": 3
      },
      "pygments_lexer": "ipython3",
      "nbconvert_exporter": "python",
      "file_extension": ".py"
    },
    "microsoft": {
      "host": {
        "AzureML": {
          "notebookHasBeenCompleted": true
        }
      },
      "ms_spell_check": {
        "ms_spell_check_language": "en"
      }
    },
    "nteract": {
      "version": "nteract-front-end@1.0.0"
    }
  },
  "nbformat": 4,
  "nbformat_minor": 1
}