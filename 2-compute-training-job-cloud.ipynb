{
  "cells": [
    {
      "attachments": {},
      "cell_type": "markdown",
      "metadata": {},
      "source": [
        "## Task 1: Create a cloud client"
      ]
    },
    {
      "cell_type": "code",
      "execution_count": 20,
      "metadata": {
        "gather": {
          "logged": 1682024274665
        }
      },
      "outputs": [
        {
          "name": "stderr",
          "output_type": "stream",
          "text": [
            "Found the config file in: /home/bstollnitz/git/config.json\n"
          ]
        }
      ],
      "source": [
        "from azure.ai.ml import MLClient\n",
        "from azure.identity import DefaultAzureCredential\n",
        "\n",
        "credential = DefaultAzureCredential()\n",
        "ml_client = MLClient.from_config(credential=credential)"
      ]
    },
    {
      "attachments": {},
      "cell_type": "markdown",
      "metadata": {},
      "source": [
        "## Task 2: Register the training and test data"
      ]
    },
    {
      "cell_type": "code",
      "execution_count": 21,
      "metadata": {},
      "outputs": [
        {
          "name": "stderr",
          "output_type": "stream",
          "text": [
            "\u001b[32mUploading testing_data.parquet\u001b[32m (< 1 MB): 100%|██████████| 23.7k/23.7k [00:00<00:00, 434kB/s]\n",
            "\u001b[39m\n",
            "\n"
          ]
        }
      ],
      "source": [
        "from azure.ai.ml.entities import Data\n",
        "from azure.ai.ml.constants import AssetTypes\n",
        "\n",
        "TRAIN_DATA_NAME = 'hospital_train_parquet'\n",
        "TEST_DATA_NAME = 'hospital_test_parquet'\n",
        "\n",
        "training_data = Data(\n",
        "    name=TRAIN_DATA_NAME,\n",
        "    path='data/training_data.parquet',\n",
        "    type=AssetTypes.URI_FILE,\n",
        "    description='RAI hospital train data'\n",
        ")\n",
        "tr_data = ml_client.data.create_or_update(training_data)\n",
        "\n",
        "test_data = Data(\n",
        "    name=TEST_DATA_NAME,\n",
        "    path='data/testing_data.parquet',\n",
        "    type=AssetTypes.URI_FILE,\n",
        "    description='RAI hospital test data'\n",
        ")\n",
        "ts_data = ml_client.data.create_or_update(test_data)"
      ]
    },
    {
      "attachments": {},
      "cell_type": "markdown",
      "metadata": {},
      "source": [
        "## Task 3: Create a compute cluster"
      ]
    },
    {
      "cell_type": "code",
      "execution_count": 22,
      "metadata": {
        "gather": {
          "logged": 1682024276497
        },
        "jupyter": {
          "outputs_hidden": false,
          "source_hidden": false
        },
        "nteract": {
          "transient": {
            "deleting": false
          }
        }
      },
      "outputs": [
        {
          "data": {
            "text/plain": [
              "<azure.core.polling._poller.LROPoller at 0x7f6d164bf1c0>"
            ]
          },
          "execution_count": 22,
          "metadata": {},
          "output_type": "execute_result"
        }
      ],
      "source": [
        "from azure.ai.ml.entities import AmlCompute\n",
        "\n",
        "COMPUTE_NAME = 'trainingcompute'\n",
        "\n",
        "my_compute = AmlCompute(\n",
        "    name=COMPUTE_NAME,\n",
        "    size='Standard_DS2_v2',\n",
        "    min_instances=0,\n",
        "    max_instances=4,\n",
        "    idle_time_before_scale_down=3600\n",
        ")\n",
        "ml_client.compute.begin_create_or_update(my_compute)"
      ]
    },
    {
      "attachments": {},
      "cell_type": "markdown",
      "metadata": {},
      "source": [
        "## Task 4: Create the job"
      ]
    },
    {
      "cell_type": "code",
      "execution_count": 23,
      "metadata": {},
      "outputs": [
        {
          "name": "stdout",
          "output_type": "stream",
          "text": [
            "RunId: sincere_ice_8p2vf05vk3\n",
            "Web View: https://ml.azure.com/runs/sincere_ice_8p2vf05vk3?wsid=/subscriptions/92a04f75-fa76-4b98-bc2e-ac45670d4044/resourcegroups/rg-bstollnitz/workspaces/mlws-bstollnitz\n",
            "\n",
            "Execution Summary\n",
            "=================\n",
            "RunId: sincere_ice_8p2vf05vk3\n",
            "Web View: https://ml.azure.com/runs/sincere_ice_8p2vf05vk3?wsid=/subscriptions/92a04f75-fa76-4b98-bc2e-ac45670d4044/resourcegroups/rg-bstollnitz/workspaces/mlws-bstollnitz\n",
            "\n"
          ]
        }
      ],
      "source": [
        "from azure.ai.ml import command, Input, Output\n",
        "\n",
        "TARGET_COLUMN_NAME = 'readmit_status'\n",
        "\n",
        "# Create the job.\n",
        "job = command(\n",
        "    description='Trains hospital readmission model',\n",
        "    experiment_name='hospital_readmission',\n",
        "    compute=COMPUTE_NAME,\n",
        "    inputs=dict(training_data=Input(type='uri_file', path=f'{TRAIN_DATA_NAME}@latest'), \n",
        "                target_column_name=TARGET_COLUMN_NAME),\n",
        "    outputs=dict(model_output=Output(type=AssetTypes.MLFLOW_MODEL)),\n",
        "    code='src/',\n",
        "    environment='azureml://registries/azureml/environments/AzureML-responsibleai-0.20-ubuntu20.04-py38-cpu/versions/4',\n",
        "    command='python train.py ' + \n",
        "            '--training_data ${{inputs.training_data}} ' +\n",
        "            '--target_column_name ${{inputs.target_column_name}} ' +\n",
        "            '--model_output ${{outputs.model_output}}'\n",
        ")\n",
        "job = ml_client.jobs.create_or_update(job)\n",
        "ml_client.jobs.stream(job.name)"
      ]
    },
    {
      "attachments": {},
      "cell_type": "markdown",
      "metadata": {},
      "source": [
        "## Task 5: Register the model"
      ]
    },
    {
      "cell_type": "code",
      "execution_count": 24,
      "metadata": {},
      "outputs": [],
      "source": [
        "from azure.ai.ml.entities import Model\n",
        "\n",
        "MODEL_NAME = 'hospital_readmission_model'\n",
        "\n",
        "# Register the model.\n",
        "model_path = f\"azureml://jobs/{job.name}/outputs/model_output\"\n",
        "model = Model(name=MODEL_NAME,\n",
        "                path=model_path,\n",
        "                type=AssetTypes.MLFLOW_MODEL)\n",
        "registered_model = ml_client.models.create_or_update(model)"
      ]
    },
    {
      "attachments": {},
      "cell_type": "markdown",
      "metadata": {},
      "source": [
        "## Task 6: Deploy the model"
      ]
    },
    {
      "cell_type": "code",
      "execution_count": 25,
      "metadata": {},
      "outputs": [
        {
          "name": "stderr",
          "output_type": "stream",
          "text": [
            "Check: endpoint hospital-readmission-endpoint exists\n",
            "data_collector is not a known attribute of class <class 'azure.ai.ml._restclient.v2022_02_01_preview.models._models_py3.ManagedOnlineDeployment'> and will be ignored\n",
            "Creating/updating online deployment blue "
          ]
        },
        {
          "name": "stdout",
          "output_type": "stream",
          "text": [
            "......."
          ]
        }
      ],
      "source": [
        "from azure.ai.ml.entities import ManagedOnlineDeployment, ManagedOnlineEndpoint \n",
        "\n",
        "ENDPOINT_NAME = 'hospital-readmission-endpoint'\n",
        "DEPLOYMENT_NAME = 'blue'\n",
        "\n",
        "# Create the managed online endpoint.\n",
        "endpoint = ManagedOnlineEndpoint(\n",
        "    name=ENDPOINT_NAME,\n",
        "    auth_mode='key',\n",
        ")\n",
        "registered_endpoint = ml_client.online_endpoints.begin_create_or_update(\n",
        "    endpoint)\n",
        "\n",
        "# Create the managed online deployment.\n",
        "deployment = ManagedOnlineDeployment(name=DEPLOYMENT_NAME,\n",
        "                                        endpoint_name=ENDPOINT_NAME,\n",
        "                                        model=registered_model,\n",
        "                                        instance_type='Standard_DS4_v2',\n",
        "                                        instance_count=1)\n",
        "ml_client.online_deployments.begin_create_or_update(deployment)\n",
        "\n",
        "# Set deployment traffic to 100%.\n",
        "registered_endpoint.traffic = {DEPLOYMENT_NAME: 100}\n",
        "ml_client.online_endpoints.begin_create_or_update(\n",
        "    registered_endpoint)"
      ]
    },
    {
      "attachments": {},
      "cell_type": "markdown",
      "metadata": {},
      "source": [
        "## Task 7: Invoke the endpoint"
      ]
    },
    {
      "cell_type": "code",
      "execution_count": null,
      "metadata": {},
      "outputs": [
        {
          "name": "stdout",
          "output_type": "stream",
          "text": [
            "[\"not readmitted\"]\n"
          ]
        }
      ],
      "source": [
        "TEST_DATA_PATH=\"test_data.json\"\n",
        "\n",
        "# Invoke the endpoint.\n",
        "result = ml_client.online_endpoints.invoke(endpoint_name=ENDPOINT_NAME, request_file=TEST_DATA_PATH)\n",
        "print(result)"
      ]
    }
  ],
  "metadata": {
    "kernel_info": {
      "name": "python3"
    },
    "kernelspec": {
      "display_name": "Python 3 (ipykernel)",
      "language": "python",
      "name": "python3"
    },
    "language_info": {
      "codemirror_mode": {
        "name": "ipython",
        "version": 3
      },
      "file_extension": ".py",
      "mimetype": "text/x-python",
      "name": "python",
      "nbconvert_exporter": "python",
      "pygments_lexer": "ipython3",
      "version": "3.9.12"
    },
    "microsoft": {
      "host": {
        "AzureML": {
          "notebookHasBeenCompleted": true
        }
      },
      "ms_spell_check": {
        "ms_spell_check_language": "en"
      }
    },
    "nteract": {
      "version": "nteract-front-end@1.0.0"
    }
  },
  "nbformat": 4,
  "nbformat_minor": 1
}
