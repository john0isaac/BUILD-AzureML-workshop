{
  "cells": [
    {
      "cell_type": "markdown",
      "source": [
        "## Task 1: Understand the training code "
      ],
      "metadata": {}
    },
    {
      "cell_type": "code",
      "source": [
        "import pandas as pd\n",
        "\n",
        "train = pd.read_parquet('data/training_data.parquet')\n",
        "test = pd.read_parquet('data/testing_data.parquet')"
      ],
      "outputs": [],
      "execution_count": 1,
      "metadata": {
        "gather": {
          "logged": 1684434354391
        }
      }
    },
    {
      "cell_type": "code",
      "source": [
        "# Split train and test data into features X and targets Y.\n",
        "target_column_name = 'readmit_status'\n",
        "Y_train = train[target_column_name]\n",
        "X_train = train.drop([target_column_name], axis = 1)  \n",
        "Y_test = test[target_column_name]\n",
        "X_test = test.drop([target_column_name], axis = 1)  "
      ],
      "outputs": [],
      "execution_count": 2,
      "metadata": {
        "gather": {
          "logged": 1684434354665
        }
      }
    },
    {
      "cell_type": "code",
      "source": [
        "from sklearn.compose import make_column_selector as selector\n",
        "from sklearn.preprocessing import OneHotEncoder, StandardScaler\n",
        "from sklearn.compose import ColumnTransformer\n",
        "from sklearn.linear_model import LogisticRegression\n",
        "from sklearn.pipeline import make_pipeline\n",
        "import numpy as np\n",
        "\n",
        "# Transform string data to numeric one-hot vectors\n",
        "categorical_selector = selector(dtype_exclude=np.number)\n",
        "categorical_columns = categorical_selector(X_train)\n",
        "categorial_encoder = OneHotEncoder(handle_unknown='ignore')\n",
        "\n",
        "# Standardize numeric data by removing the mean and scaling to unit variance\n",
        "numerical_selector = selector(dtype_include=np.number)\n",
        "numerical_columns = numerical_selector(X_train)\n",
        "numerical_encoder = StandardScaler()\n",
        "\n",
        "# Create a preprocessor that will preprocess both numeric and categorical data\n",
        "preprocessor = ColumnTransformer([\n",
        "('categorical-encoder', categorial_encoder, categorical_columns),\n",
        "('standard_scaler', numerical_encoder, numerical_columns)])\n",
        "\n",
        "clf = make_pipeline(preprocessor, LogisticRegression(max_iter=1000))\n",
        "\n",
        "print('Training model...') \n",
        "model = clf.fit(X_train, Y_train)\n",
        "print('Accuracy score: ', clf.score(X_test,Y_test))"
      ],
      "outputs": [
        {
          "output_type": "stream",
          "name": "stdout",
          "text": "Training model...\nAccuracy score:  0.8390804597701149\n"
        }
      ],
      "execution_count": 3,
      "metadata": {
        "gather": {
          "logged": 1684434354800
        }
      }
    },
    {
      "cell_type": "markdown",
      "source": [
        "## Task 2: Create a cloud client"
      ],
      "metadata": {}
    },
    {
      "cell_type": "code",
      "source": [
        "from azure.ai.ml import MLClient\n",
        "from azure.identity import DefaultAzureCredential\n",
        "\n",
        "credential = DefaultAzureCredential()\n",
        "#credential.get_token(\"https://management.azure.com/.default\")\n",
        "ml_client = MLClient.from_config(credential=credential)"
      ],
      "outputs": [
        {
          "output_type": "stream",
          "name": "stderr",
          "text": "Found the config file in: ./config.json\n"
        }
      ],
      "execution_count": 4,
      "metadata": {
        "gather": {
          "logged": 1684434356366
        }
      }
    },
    {
      "cell_type": "markdown",
      "source": [
        "## Task 3: Register the training and test data"
      ],
      "metadata": {}
    },
    {
      "cell_type": "code",
      "source": [
        "from azure.ai.ml.entities import Data\n",
        "from azure.ai.ml.constants import AssetTypes\n",
        "\n",
        "train_data_name = 'hospital_train_parquet'\n",
        "test_data_name = 'hospital_test_parquet'\n",
        "\n",
        "training_data = Data(\n",
        "    name=train_data_name,\n",
        "    path='data/training_data.parquet',\n",
        "    type=AssetTypes.URI_FILE,\n",
        "    description='RAI hospital train data'\n",
        ")\n",
        "tr_data = ml_client.data.create_or_update(training_data)\n",
        "\n",
        "test_data = Data(\n",
        "    name=test_data_name,\n",
        "    path='data/testing_data.parquet',\n",
        "    type=AssetTypes.URI_FILE,\n",
        "    description='RAI hospital test data'\n",
        ")\n",
        "ts_data = ml_client.data.create_or_update(test_data)"
      ],
      "outputs": [],
      "execution_count": 5,
      "metadata": {
        "gather": {
          "logged": 1684434358363
        }
      }
    },
    {
      "cell_type": "markdown",
      "source": [
        "## Task 4: Create a compute cluster"
      ],
      "metadata": {}
    },
    {
      "cell_type": "code",
      "source": [
        "from azure.ai.ml.entities import AmlCompute\n",
        "import time\n",
        "\n",
        "compute_name = 'trainingcompute'\n",
        "\n",
        "my_compute = AmlCompute(\n",
        "    name=compute_name,\n",
        "    size='Standard_DS12_v2',\n",
        "    min_instances=0,\n",
        "    max_instances=4,\n",
        "    idle_time_before_scale_down=3600\n",
        ")\n",
        "ml_client.compute.begin_create_or_update(my_compute)\n",
        "\n",
        "while(ml_client.compute.get(compute_name).provisioning_state not in ['Succeeded', 'Failed', 'Canceled'] ):\n",
        "    time.sleep(60)\n",
        "    print(ml_client.compute.get(compute_name).provisioning_state)"
      ],
      "outputs": [
        {
          "output_type": "stream",
          "name": "stdout",
          "text": "Succeeded\n"
        }
      ],
      "execution_count": 6,
      "metadata": {
        "gather": {
          "logged": 1684434419020
        },
        "jupyter": {
          "outputs_hidden": false,
          "source_hidden": false
        },
        "nteract": {
          "transient": {
            "deleting": false
          }
        }
      }
    },
    {
      "cell_type": "markdown",
      "source": [
        "## Task 5: Create the job"
      ],
      "metadata": {}
    },
    {
      "cell_type": "code",
      "source": [
        "from azure.ai.ml import command, Input, Output\n",
        "\n",
        "target_column_name = 'readmit_status'\n",
        "\n",
        "# Create the job.\n",
        "job = command(\n",
        "    description='Trains hospital readmission model',\n",
        "    experiment_name='hospital_readmission',\n",
        "    compute=compute_name,\n",
        "    inputs=dict(training_data=Input(type='uri_file', path=f'{train_data_name}@latest'), \n",
        "                target_column_name=target_column_name),\n",
        "    outputs=dict(model_output=Output(type=AssetTypes.MLFLOW_MODEL)),\n",
        "    code='src/',\n",
        "    environment='azureml://registries/azureml/environments/AzureML-responsibleai-0.20-ubuntu20.04-py38-cpu/versions/4',\n",
        "    command='python train.py ' + \n",
        "            '--training_data ${{inputs.training_data}} ' +\n",
        "            '--target_column_name ${{inputs.target_column_name}} ' +\n",
        "            '--model_output ${{outputs.model_output}}'\n",
        ")\n",
        "job = ml_client.jobs.create_or_update(job)\n",
        "ml_client.jobs.stream(job.name)"
      ],
      "outputs": [
        {
          "output_type": "stream",
          "name": "stderr",
          "text": "Class AutoDeleteSettingSchema: This is an experimental class, and may change at any time. Please see https://aka.ms/azuremlexperimental for more information.\nClass AutoDeleteConditionSchema: This is an experimental class, and may change at any time. Please see https://aka.ms/azuremlexperimental for more information.\nClass BaseAutoDeleteSettingSchema: This is an experimental class, and may change at any time. Please see https://aka.ms/azuremlexperimental for more information.\nClass IntellectualPropertySchema: This is an experimental class, and may change at any time. Please see https://aka.ms/azuremlexperimental for more information.\nClass ProtectionLevelSchema: This is an experimental class, and may change at any time. Please see https://aka.ms/azuremlexperimental for more information.\nClass BaseIntellectualPropertySchema: This is an experimental class, and may change at any time. Please see https://aka.ms/azuremlexperimental for more information.\n"
        },
        {
          "output_type": "stream",
          "name": "stdout",
          "text": "RunId: calm_head_lkclf1kkl8\nWeb View: https://ml.azure.com/runs/calm_head_lkclf1kkl8?wsid=/subscriptions/8a0f6419-1f4c-45b3-8d92-ee53be1ea443/resourcegroups/demoRG/workspaces/aml-ws\n\nExecution Summary\n=================\nRunId: calm_head_lkclf1kkl8\nWeb View: https://ml.azure.com/runs/calm_head_lkclf1kkl8?wsid=/subscriptions/8a0f6419-1f4c-45b3-8d92-ee53be1ea443/resourcegroups/demoRG/workspaces/aml-ws\n\n"
        }
      ],
      "execution_count": 7,
      "metadata": {
        "gather": {
          "logged": 1684434758448
        }
      }
    },
    {
      "cell_type": "markdown",
      "source": [
        "## Task 6: Register the model"
      ],
      "metadata": {}
    },
    {
      "cell_type": "code",
      "source": [
        "from azure.ai.ml.entities import Model\n",
        "\n",
        "model_name = 'hospital_readmission_model'\n",
        "\n",
        "# Register the model.\n",
        "model_path = f'azureml://jobs/{job.name}/outputs/model_output'\n",
        "model = Model(name=model_name,\n",
        "                path=model_path,\n",
        "                type=AssetTypes.MLFLOW_MODEL)\n",
        "registered_model = ml_client.models.create_or_update(model)"
      ],
      "outputs": [],
      "execution_count": 8,
      "metadata": {
        "gather": {
          "logged": 1684434758713
        }
      }
    }
  ],
  "metadata": {
    "kernel_info": {
      "name": "python38-azureml"
    },
    "kernelspec": {
      "name": "python38-azureml",
      "language": "python",
      "display_name": "Python 3.8 - AzureML"
    },
    "language_info": {
      "name": "python",
      "version": "3.8.5",
      "mimetype": "text/x-python",
      "codemirror_mode": {
        "name": "ipython",
        "version": 3
      },
      "pygments_lexer": "ipython3",
      "nbconvert_exporter": "python",
      "file_extension": ".py"
    },
    "microsoft": {
      "host": {
        "AzureML": {
          "notebookHasBeenCompleted": true
        }
      },
      "ms_spell_check": {
        "ms_spell_check_language": "en"
      }
    },
    "nteract": {
      "version": "nteract-front-end@1.0.0"
    }
  },
  "nbformat": 4,
  "nbformat_minor": 1
}