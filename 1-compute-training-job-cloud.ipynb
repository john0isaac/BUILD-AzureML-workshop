{
  "cells": [
    {
      "attachments": {},
      "cell_type": "markdown",
      "metadata": {},
      "source": [
        "## Task 1: Understand the training code "
      ]
    },
    {
      "cell_type": "code",
      "execution_count": 13,
      "metadata": {},
      "outputs": [],
      "source": [
        "import pandas as pd\n",
        "\n",
        "train = pd.read_parquet('data/training_data.parquet')\n",
        "test = pd.read_parquet('data/testing_data.parquet')"
      ]
    },
    {
      "cell_type": "code",
      "execution_count": 14,
      "metadata": {},
      "outputs": [],
      "source": [
        "# Split train and test data into features X and targets Y.\n",
        "target_column_name = 'readmit_status'\n",
        "Y_train = train[target_column_name]\n",
        "X_train = train.drop([target_column_name], axis = 1)  \n",
        "Y_test = test[target_column_name]\n",
        "X_test = test.drop([target_column_name], axis = 1)  "
      ]
    },
    {
      "cell_type": "code",
      "execution_count": 15,
      "metadata": {},
      "outputs": [
        {
          "name": "stdout",
          "output_type": "stream",
          "text": [
            "Training model...\n",
            "Accuracy score:  0.8390804597701149\n"
          ]
        }
      ],
      "source": [
        "from sklearn.compose import make_column_selector as selector\n",
        "from sklearn.preprocessing import OneHotEncoder, StandardScaler\n",
        "from sklearn.compose import ColumnTransformer\n",
        "from sklearn.linear_model import LogisticRegression\n",
        "from sklearn.pipeline import make_pipeline\n",
        "import numpy as np\n",
        "\n",
        "# Transform string data to numeric one-hot vectors\n",
        "categorical_selector = selector(dtype_exclude=np.number)\n",
        "categorical_columns = categorical_selector(X_train)\n",
        "categorial_encoder = OneHotEncoder(handle_unknown=\"ignore\")\n",
        "\n",
        "# Standardize numeric data by removing the mean and scaling to unit variance\n",
        "numerical_selector = selector(dtype_include=np.number)\n",
        "numerical_columns = numerical_selector(X_train)\n",
        "numerical_encoder = StandardScaler()\n",
        "\n",
        "# Create a preprocessor that will preprocess both numeric and categorical data\n",
        "preprocessor = ColumnTransformer([\n",
        "('categorical-encoder', categorial_encoder, categorical_columns),\n",
        "('standard_scaler', numerical_encoder, numerical_columns)])\n",
        "\n",
        "clf = make_pipeline(preprocessor, LogisticRegression(max_iter=1000))\n",
        "\n",
        "print(\"Training model...\") \n",
        "model = clf.fit(X_train, Y_train)\n",
        "print(\"Accuracy score: \", clf.score(X_test,Y_test))"
      ]
    },
    {
      "attachments": {},
      "cell_type": "markdown",
      "metadata": {},
      "source": [
        "## Task 2: Create a cloud client"
      ]
    },
    {
      "cell_type": "code",
      "execution_count": 16,
      "metadata": {
        "gather": {
          "logged": 1682024274665
        }
      },
      "outputs": [
        {
          "name": "stderr",
          "output_type": "stream",
          "text": [
            "Found the config file in: /home/bstollnitz/git/config.json\n"
          ]
        }
      ],
      "source": [
        "from azure.ai.ml import MLClient\n",
        "from azure.identity import DefaultAzureCredential\n",
        "\n",
        "credential = DefaultAzureCredential()\n",
        "ml_client = MLClient.from_config(credential=credential)"
      ]
    },
    {
      "attachments": {},
      "cell_type": "markdown",
      "metadata": {},
      "source": [
        "## Task 3: Register the training and test data"
      ]
    },
    {
      "cell_type": "code",
      "execution_count": 17,
      "metadata": {},
      "outputs": [
        {
          "name": "stderr",
          "output_type": "stream",
          "text": [
            "DefaultAzureCredential failed to retrieve a token from the included credentials.\n",
            "Attempted credentials:\n",
            "\tEnvironmentCredential: EnvironmentCredential authentication unavailable. Environment variables are not fully configured.\n",
            "Visit https://aka.ms/azsdk/python/identity/environmentcredential/troubleshoot to troubleshoot.this issue.\n",
            "\tManagedIdentityCredential: ManagedIdentityCredential authentication unavailable, no response from the IMDS endpoint.\n",
            "\tSharedTokenCacheCredential: SharedTokenCacheCredential authentication unavailable. No accounts were found in the cache.\n",
            "\tVisualStudioCodeCredential: Failed to get Azure user details from Visual Studio Code.\n",
            "\tAzureCliCredential: ERROR: The command failed with an unexpected error. Here is the traceback:\n",
            "ERROR: 0. The ID token is not yet valid. Make sure your computer's time and time zone are both correct. Current epoch = 1683147857.  The id_token was: {\n",
            "  \"aud\": \"04b07795-8ddb-461a-bbee-02f9e1bf7b46\",\n",
            "  \"iss\": \"https://login.microsoftonline.com/72f988bf-86f1-41af-91ab-2d7cd011db47/v2.0\",\n",
            "  \"iat\": 1683149545,\n",
            "  \"nbf\": 1683149545,\n",
            "  \"exp\": 1683153445,\n",
            "  \"aio\": \"AXQAi/8TAAAAAZeIUI4fE1uJxtC56UoCtl70B489N5wsN4J0pmAGc61pox1o7o0TzjhK4ynRCVuXjvcET0/xmXlEgh0Di3eKkbIofxjafzv07pVVZluMua6rnca2urVBPlDSfmYVY1ZxWhNDceEp3yNhoA+xqoSfhA==\",\n",
            "  \"name\": \"Beatriz Stollnitz\",\n",
            "  \"nonce\": \"ce8593a4f3f83fe7045cf4b7e5ea1cb82c6b928a46966c8acd679d0108563fb6\",\n",
            "  \"oid\": \"9911b582-2936-4fe0-8820-398abbba43d8\",\n",
            "  \"preferred_username\": \"bstollnitz@microsoft.com\",\n",
            "  \"puid\": \"100320013B85C897\",\n",
            "  \"rh\": \"0.AQEAv4j5cvGGr0GRqy180BHbR5V3sATbjRpGu-4C-eG_e0YaANk.\",\n",
            "  \"sub\": \"N0ml0zUvWJY2e4ai8L0kG_q8ptMSW2JMbI9bBknSa4E\",\n",
            "  \"tid\": \"72f988bf-86f1-41af-91ab-2d7cd011db47\",\n",
            "  \"uti\": \"ivmWqB41LU6oSNki_p8IAQ\",\n",
            "  \"ver\": \"2.0\"\n",
            "}\n",
            "Traceback (most recent call last):\n",
            "  File \"/opt/az/lib/python3.10/site-packages/knack/cli.py\", line 233, in invoke\n",
            "    cmd_result = self.invocation.execute(args)\n",
            "  File \"/opt/az/lib/python3.10/site-packages/azure/cli/core/commands/__init__.py\", line 663, in execute\n",
            "    raise ex\n",
            "  File \"/opt/az/lib/python3.10/site-packages/azure/cli/core/commands/__init__.py\", line 726, in _run_jobs_serially\n",
            "    results.append(self._run_job(expanded_arg, cmd_copy))\n",
            "  File \"/opt/az/lib/python3.10/site-packages/azure/cli/core/commands/__init__.py\", line 697, in _run_job\n",
            "    result = cmd_copy(params)\n",
            "  File \"/opt/az/lib/python3.10/site-packages/azure/cli/core/commands/__init__.py\", line 333, in __call__\n",
            "    return self.handler(*args, **kwargs)\n",
            "  File \"/opt/az/lib/python3.10/site-packages/azure/cli/core/commands/command_operation.py\", line 121, in handler\n",
            "    return op(**command_args)\n",
            "  File \"/opt/az/lib/python3.10/site-packages/azure/cli/command_modules/profile/custom.py\", line 66, in get_access_token\n",
            "    creds, subscription, tenant = profile.get_raw_token(subscription=subscription, resource=resource, scopes=scopes,\n",
            "  File \"/opt/az/lib/python3.10/site-packages/azure/cli/core/_profile.py\", line 383, in get_raw_token\n",
            "    sdk_token = credential.get_token(*scopes)\n",
            "  File \"/opt/az/lib/python3.10/site-packages/azure/cli/core/auth/msal_authentication.py\", line 63, in get_token\n",
            "    result = self.acquire_token_silent_with_error(list(scopes), self._account, claims_challenge=claims, **kwargs)\n",
            "  File \"/opt/az/lib/python3.10/site-packages/msal/application.py\", line 1287, in acquire_token_silent_with_error\n",
            "    result = self._acquire_token_silent_from_cache_and_possibly_refresh_it(\n",
            "  File \"/opt/az/lib/python3.10/site-packages/msal/application.py\", line 1392, in _acquire_token_silent_from_cache_and_possibly_refresh_it\n",
            "    result = _clean_up(self._acquire_token_silent_by_finding_rt_belongs_to_me_or_my_family(\n",
            "  File \"/opt/az/lib/python3.10/site-packages/msal/application.py\", line 1444, in _acquire_token_silent_by_finding_rt_belongs_to_me_or_my_family\n",
            "    last_resp = at = self._acquire_token_silent_by_finding_specific_refresh_token(\n",
            "  File \"/opt/az/lib/python3.10/site-packages/msal/application.py\", line 1491, in _acquire_token_silent_by_finding_specific_refresh_token\n",
            "    response = client.obtain_token_by_refresh_token(\n",
            "  File \"/opt/az/lib/python3.10/site-packages/msal/oauth2cli/oauth2.py\", line 830, in obtain_token_by_refresh_token\n",
            "    resp = super(Client, self).obtain_token_by_refresh_token(\n",
            "  File \"/opt/az/lib/python3.10/site-packages/msal/oauth2cli/oauth2.py\", line 262, in obtain_token_by_refresh_token\n",
            "    return self._obtain_token(\"refresh_token\", data=data, **kwargs)\n",
            "  File \"/opt/az/lib/python3.10/site-packages/msal/oauth2cli/oidc.py\", line 116, in _obtain_token\n",
            "    ret = super(Client, self)._obtain_token(grant_type, *args, **kwargs)\n",
            "  File \"/opt/az/lib/python3.10/site-packages/msal/oauth2cli/oauth2.py\", line 788, in _obtain_token\n",
            "    (on_obtaining_tokens or self.on_obtaining_tokens)({\n",
            "  File \"/opt/az/lib/python3.10/site-packages/msal/application.py\", line 1496, in <lambda>\n",
            "    on_obtaining_tokens=lambda event: self.token_cache.add(dict(\n",
            "  File \"/opt/az/lib/python3.10/site-packages/msal/token_cache.py\", line 314, in add\n",
            "    super(SerializableTokenCache, self).add(event, **kwargs)\n",
            "  File \"/opt/az/lib/python3.10/site-packages/msal/token_cache.py\", line 117, in add\n",
            "    return self.__add(event, now=now)\n",
            "  File \"/opt/az/lib/python3.10/site-packages/msal/token_cache.py\", line 158, in __add\n",
            "    decode_id_token(id_token, client_id=event[\"client_id\"]) if id_token else {})\n",
            "  File \"/opt/az/lib/python3.10/site-packages/msal/oauth2cli/oidc.py\", line 77, in decode_id_token\n",
            "    raise RuntimeError(\"%s Current epoch = %s.  The id_token was: %s\" % (\n",
            "RuntimeError: 0. The ID token is not yet valid. Make sure your computer's time and time zone are both correct. Current epoch = 1683147857.  The id_token was: {\n",
            "  \"aud\": \"04b07795-8ddb-461a-bbee-02f9e1bf7b46\",\n",
            "  \"iss\": \"https://login.microsoftonline.com/72f988bf-86f1-41af-91ab-2d7cd011db47/v2.0\",\n",
            "  \"iat\": 1683149545,\n",
            "  \"nbf\": 1683149545,\n",
            "  \"exp\": 1683153445,\n",
            "  \"aio\": \"AXQAi/8TAAAAAZeIUI4fE1uJxtC56UoCtl70B489N5wsN4J0pmAGc61pox1o7o0TzjhK4ynRCVuXjvcET0/xmXlEgh0Di3eKkbIofxjafzv07pVVZluMua6rnca2urVBPlDSfmYVY1ZxWhNDceEp3yNhoA+xqoSfhA==\",\n",
            "  \"name\": \"Beatriz Stollnitz\",\n",
            "  \"nonce\": \"ce8593a4f3f83fe7045cf4b7e5ea1cb82c6b928a46966c8acd679d0108563fb6\",\n",
            "  \"oid\": \"9911b582-2936-4fe0-8820-398abbba43d8\",\n",
            "  \"preferred_username\": \"bstollnitz@microsoft.com\",\n",
            "  \"puid\": \"100320013B85C897\",\n",
            "  \"rh\": \"0.AQEAv4j5cvGGr0GRqy180BHbR5V3sATbjRpGu-4C-eG_e0YaANk.\",\n",
            "  \"sub\": \"N0ml0zUvWJY2e4ai8L0kG_q8ptMSW2JMbI9bBknSa4E\",\n",
            "  \"tid\": \"72f988bf-86f1-41af-91ab-2d7cd011db47\",\n",
            "  \"uti\": \"ivmWqB41LU6oSNki_p8IAQ\",\n",
            "  \"ver\": \"2.0\"\n",
            "}\n",
            "To check existing issues, please visit: https://github.com/Azure/azure-cli/issues\n",
            "To open a new issue, please run `az feedback`\n",
            "\n",
            "To mitigate this issue, please refer to the troubleshooting guidelines here at https://aka.ms/azsdk/python/identity/defaultazurecredential/troubleshoot.\n"
          ]
        },
        {
          "ename": "ClientAuthenticationError",
          "evalue": "DefaultAzureCredential failed to retrieve a token from the included credentials.\nAttempted credentials:\n\tEnvironmentCredential: EnvironmentCredential authentication unavailable. Environment variables are not fully configured.\nVisit https://aka.ms/azsdk/python/identity/environmentcredential/troubleshoot to troubleshoot.this issue.\n\tManagedIdentityCredential: ManagedIdentityCredential authentication unavailable, no response from the IMDS endpoint.\n\tSharedTokenCacheCredential: SharedTokenCacheCredential authentication unavailable. No accounts were found in the cache.\n\tVisualStudioCodeCredential: Failed to get Azure user details from Visual Studio Code.\n\tAzureCliCredential: ERROR: The command failed with an unexpected error. Here is the traceback:\nERROR: 0. The ID token is not yet valid. Make sure your computer's time and time zone are both correct. Current epoch = 1683147857.  The id_token was: {\n  \"aud\": \"04b07795-8ddb-461a-bbee-02f9e1bf7b46\",\n  \"iss\": \"https://login.microsoftonline.com/72f988bf-86f1-41af-91ab-2d7cd011db47/v2.0\",\n  \"iat\": 1683149545,\n  \"nbf\": 1683149545,\n  \"exp\": 1683153445,\n  \"aio\": \"AXQAi/8TAAAAAZeIUI4fE1uJxtC56UoCtl70B489N5wsN4J0pmAGc61pox1o7o0TzjhK4ynRCVuXjvcET0/xmXlEgh0Di3eKkbIofxjafzv07pVVZluMua6rnca2urVBPlDSfmYVY1ZxWhNDceEp3yNhoA+xqoSfhA==\",\n  \"name\": \"Beatriz Stollnitz\",\n  \"nonce\": \"ce8593a4f3f83fe7045cf4b7e5ea1cb82c6b928a46966c8acd679d0108563fb6\",\n  \"oid\": \"9911b582-2936-4fe0-8820-398abbba43d8\",\n  \"preferred_username\": \"bstollnitz@microsoft.com\",\n  \"puid\": \"100320013B85C897\",\n  \"rh\": \"0.AQEAv4j5cvGGr0GRqy180BHbR5V3sATbjRpGu-4C-eG_e0YaANk.\",\n  \"sub\": \"N0ml0zUvWJY2e4ai8L0kG_q8ptMSW2JMbI9bBknSa4E\",\n  \"tid\": \"72f988bf-86f1-41af-91ab-2d7cd011db47\",\n  \"uti\": \"ivmWqB41LU6oSNki_p8IAQ\",\n  \"ver\": \"2.0\"\n}\nTraceback (most recent call last):\n  File \"/opt/az/lib/python3.10/site-packages/knack/cli.py\", line 233, in invoke\n    cmd_result = self.invocation.execute(args)\n  File \"/opt/az/lib/python3.10/site-packages/azure/cli/core/commands/__init__.py\", line 663, in execute\n    raise ex\n  File \"/opt/az/lib/python3.10/site-packages/azure/cli/core/commands/__init__.py\", line 726, in _run_jobs_serially\n    results.append(self._run_job(expanded_arg, cmd_copy))\n  File \"/opt/az/lib/python3.10/site-packages/azure/cli/core/commands/__init__.py\", line 697, in _run_job\n    result = cmd_copy(params)\n  File \"/opt/az/lib/python3.10/site-packages/azure/cli/core/commands/__init__.py\", line 333, in __call__\n    return self.handler(*args, **kwargs)\n  File \"/opt/az/lib/python3.10/site-packages/azure/cli/core/commands/command_operation.py\", line 121, in handler\n    return op(**command_args)\n  File \"/opt/az/lib/python3.10/site-packages/azure/cli/command_modules/profile/custom.py\", line 66, in get_access_token\n    creds, subscription, tenant = profile.get_raw_token(subscription=subscription, resource=resource, scopes=scopes,\n  File \"/opt/az/lib/python3.10/site-packages/azure/cli/core/_profile.py\", line 383, in get_raw_token\n    sdk_token = credential.get_token(*scopes)\n  File \"/opt/az/lib/python3.10/site-packages/azure/cli/core/auth/msal_authentication.py\", line 63, in get_token\n    result = self.acquire_token_silent_with_error(list(scopes), self._account, claims_challenge=claims, **kwargs)\n  File \"/opt/az/lib/python3.10/site-packages/msal/application.py\", line 1287, in acquire_token_silent_with_error\n    result = self._acquire_token_silent_from_cache_and_possibly_refresh_it(\n  File \"/opt/az/lib/python3.10/site-packages/msal/application.py\", line 1392, in _acquire_token_silent_from_cache_and_possibly_refresh_it\n    result = _clean_up(self._acquire_token_silent_by_finding_rt_belongs_to_me_or_my_family(\n  File \"/opt/az/lib/python3.10/site-packages/msal/application.py\", line 1444, in _acquire_token_silent_by_finding_rt_belongs_to_me_or_my_family\n    last_resp = at = self._acquire_token_silent_by_finding_specific_refresh_token(\n  File \"/opt/az/lib/python3.10/site-packages/msal/application.py\", line 1491, in _acquire_token_silent_by_finding_specific_refresh_token\n    response = client.obtain_token_by_refresh_token(\n  File \"/opt/az/lib/python3.10/site-packages/msal/oauth2cli/oauth2.py\", line 830, in obtain_token_by_refresh_token\n    resp = super(Client, self).obtain_token_by_refresh_token(\n  File \"/opt/az/lib/python3.10/site-packages/msal/oauth2cli/oauth2.py\", line 262, in obtain_token_by_refresh_token\n    return self._obtain_token(\"refresh_token\", data=data, **kwargs)\n  File \"/opt/az/lib/python3.10/site-packages/msal/oauth2cli/oidc.py\", line 116, in _obtain_token\n    ret = super(Client, self)._obtain_token(grant_type, *args, **kwargs)\n  File \"/opt/az/lib/python3.10/site-packages/msal/oauth2cli/oauth2.py\", line 788, in _obtain_token\n    (on_obtaining_tokens or self.on_obtaining_tokens)({\n  File \"/opt/az/lib/python3.10/site-packages/msal/application.py\", line 1496, in <lambda>\n    on_obtaining_tokens=lambda event: self.token_cache.add(dict(\n  File \"/opt/az/lib/python3.10/site-packages/msal/token_cache.py\", line 314, in add\n    super(SerializableTokenCache, self).add(event, **kwargs)\n  File \"/opt/az/lib/python3.10/site-packages/msal/token_cache.py\", line 117, in add\n    return self.__add(event, now=now)\n  File \"/opt/az/lib/python3.10/site-packages/msal/token_cache.py\", line 158, in __add\n    decode_id_token(id_token, client_id=event[\"client_id\"]) if id_token else {})\n  File \"/opt/az/lib/python3.10/site-packages/msal/oauth2cli/oidc.py\", line 77, in decode_id_token\n    raise RuntimeError(\"%s Current epoch = %s.  The id_token was: %s\" % (\nRuntimeError: 0. The ID token is not yet valid. Make sure your computer's time and time zone are both correct. Current epoch = 1683147857.  The id_token was: {\n  \"aud\": \"04b07795-8ddb-461a-bbee-02f9e1bf7b46\",\n  \"iss\": \"https://login.microsoftonline.com/72f988bf-86f1-41af-91ab-2d7cd011db47/v2.0\",\n  \"iat\": 1683149545,\n  \"nbf\": 1683149545,\n  \"exp\": 1683153445,\n  \"aio\": \"AXQAi/8TAAAAAZeIUI4fE1uJxtC56UoCtl70B489N5wsN4J0pmAGc61pox1o7o0TzjhK4ynRCVuXjvcET0/xmXlEgh0Di3eKkbIofxjafzv07pVVZluMua6rnca2urVBPlDSfmYVY1ZxWhNDceEp3yNhoA+xqoSfhA==\",\n  \"name\": \"Beatriz Stollnitz\",\n  \"nonce\": \"ce8593a4f3f83fe7045cf4b7e5ea1cb82c6b928a46966c8acd679d0108563fb6\",\n  \"oid\": \"9911b582-2936-4fe0-8820-398abbba43d8\",\n  \"preferred_username\": \"bstollnitz@microsoft.com\",\n  \"puid\": \"100320013B85C897\",\n  \"rh\": \"0.AQEAv4j5cvGGr0GRqy180BHbR5V3sATbjRpGu-4C-eG_e0YaANk.\",\n  \"sub\": \"N0ml0zUvWJY2e4ai8L0kG_q8ptMSW2JMbI9bBknSa4E\",\n  \"tid\": \"72f988bf-86f1-41af-91ab-2d7cd011db47\",\n  \"uti\": \"ivmWqB41LU6oSNki_p8IAQ\",\n  \"ver\": \"2.0\"\n}\nTo check existing issues, please visit: https://github.com/Azure/azure-cli/issues\nTo open a new issue, please run `az feedback`\n\nTo mitigate this issue, please refer to the troubleshooting guidelines here at https://aka.ms/azsdk/python/identity/defaultazurecredential/troubleshoot.",
          "output_type": "error",
          "traceback": [
            "\u001b[0;31m---------------------------------------------------------------------------\u001b[0m",
            "\u001b[0;31mClientAuthenticationError\u001b[0m                 Traceback (most recent call last)",
            "Cell \u001b[0;32mIn[17], line 13\u001b[0m\n\u001b[1;32m      5\u001b[0m TEST_DATA_NAME \u001b[39m=\u001b[39m \u001b[39m'\u001b[39m\u001b[39mhospital_test_parquet\u001b[39m\u001b[39m'\u001b[39m\n\u001b[1;32m      7\u001b[0m training_data \u001b[39m=\u001b[39m Data(\n\u001b[1;32m      8\u001b[0m     name\u001b[39m=\u001b[39mTRAIN_DATA_NAME,\n\u001b[1;32m      9\u001b[0m     path\u001b[39m=\u001b[39m\u001b[39m'\u001b[39m\u001b[39mdata/training_data.parquet\u001b[39m\u001b[39m'\u001b[39m,\n\u001b[1;32m     10\u001b[0m     \u001b[39mtype\u001b[39m\u001b[39m=\u001b[39mAssetTypes\u001b[39m.\u001b[39mURI_FILE,\n\u001b[1;32m     11\u001b[0m     description\u001b[39m=\u001b[39m\u001b[39m'\u001b[39m\u001b[39mRAI hospital train data\u001b[39m\u001b[39m'\u001b[39m\n\u001b[1;32m     12\u001b[0m )\n\u001b[0;32m---> 13\u001b[0m tr_data \u001b[39m=\u001b[39m ml_client\u001b[39m.\u001b[39;49mdata\u001b[39m.\u001b[39;49mcreate_or_update(training_data)\n\u001b[1;32m     15\u001b[0m test_data \u001b[39m=\u001b[39m Data(\n\u001b[1;32m     16\u001b[0m     name\u001b[39m=\u001b[39mTEST_DATA_NAME,\n\u001b[1;32m     17\u001b[0m     path\u001b[39m=\u001b[39m\u001b[39m'\u001b[39m\u001b[39mdata/testing_data.parquet\u001b[39m\u001b[39m'\u001b[39m,\n\u001b[1;32m     18\u001b[0m     \u001b[39mtype\u001b[39m\u001b[39m=\u001b[39mAssetTypes\u001b[39m.\u001b[39mURI_FILE,\n\u001b[1;32m     19\u001b[0m     description\u001b[39m=\u001b[39m\u001b[39m'\u001b[39m\u001b[39mRAI hospital test data\u001b[39m\u001b[39m'\u001b[39m\n\u001b[1;32m     20\u001b[0m )\n\u001b[1;32m     21\u001b[0m ts_data \u001b[39m=\u001b[39m ml_client\u001b[39m.\u001b[39mdata\u001b[39m.\u001b[39mcreate_or_update(test_data)\n",
            "File \u001b[0;32m~/miniconda3/envs/build-2023/lib/python3.9/site-packages/azure/ai/ml/_telemetry/activity.py:260\u001b[0m, in \u001b[0;36mmonitor_with_activity.<locals>.monitor.<locals>.wrapper\u001b[0;34m(*args, **kwargs)\u001b[0m\n\u001b[1;32m    257\u001b[0m \u001b[39m@functools\u001b[39m\u001b[39m.\u001b[39mwraps(f)\n\u001b[1;32m    258\u001b[0m \u001b[39mdef\u001b[39;00m \u001b[39mwrapper\u001b[39m(\u001b[39m*\u001b[39margs, \u001b[39m*\u001b[39m\u001b[39m*\u001b[39mkwargs):\n\u001b[1;32m    259\u001b[0m     \u001b[39mwith\u001b[39;00m log_activity(logger, activity_name \u001b[39mor\u001b[39;00m f\u001b[39m.\u001b[39m\u001b[39m__name__\u001b[39m, activity_type, custom_dimensions):\n\u001b[0;32m--> 260\u001b[0m         \u001b[39mreturn\u001b[39;00m f(\u001b[39m*\u001b[39;49margs, \u001b[39m*\u001b[39;49m\u001b[39m*\u001b[39;49mkwargs)\n",
            "File \u001b[0;32m~/miniconda3/envs/build-2023/lib/python3.9/site-packages/azure/ai/ml/operations/_data_operations.py:206\u001b[0m, in \u001b[0;36mDataOperations.create_or_update\u001b[0;34m(self, data)\u001b[0m\n\u001b[1;32m    199\u001b[0m     \u001b[39mif\u001b[39;00m \u001b[39mstr\u001b[39m(ex) \u001b[39m==\u001b[39m ASSET_PATH_ERROR:\n\u001b[1;32m    200\u001b[0m         \u001b[39mraise\u001b[39;00m AssetPathException(\n\u001b[1;32m    201\u001b[0m             message\u001b[39m=\u001b[39mCHANGED_ASSET_PATH_MSG,\n\u001b[1;32m    202\u001b[0m             tartget\u001b[39m=\u001b[39mErrorTarget\u001b[39m.\u001b[39mDATA,\n\u001b[1;32m    203\u001b[0m             no_personal_data_message\u001b[39m=\u001b[39mCHANGED_ASSET_PATH_MSG_NO_PERSONAL_DATA,\n\u001b[1;32m    204\u001b[0m             error_category\u001b[39m=\u001b[39mErrorCategory\u001b[39m.\u001b[39mUSER_ERROR,\n\u001b[1;32m    205\u001b[0m         )\n\u001b[0;32m--> 206\u001b[0m \u001b[39mraise\u001b[39;00m ex\n",
            "File \u001b[0;32m~/miniconda3/envs/build-2023/lib/python3.9/site-packages/azure/ai/ml/operations/_data_operations.py:170\u001b[0m, in \u001b[0;36mDataOperations.create_or_update\u001b[0;34m(self, data)\u001b[0m\n\u001b[1;32m    168\u001b[0m \u001b[39mif\u001b[39;00m referenced_uris:\n\u001b[1;32m    169\u001b[0m     data\u001b[39m.\u001b[39m_referenced_uris \u001b[39m=\u001b[39m referenced_uris\n\u001b[0;32m--> 170\u001b[0m data, _ \u001b[39m=\u001b[39m _check_and_upload_path(artifact\u001b[39m=\u001b[39;49mdata, asset_operations\u001b[39m=\u001b[39;49m\u001b[39mself\u001b[39;49m, artifact_type\u001b[39m=\u001b[39;49mErrorTarget\u001b[39m.\u001b[39;49mDATA)\n\u001b[1;32m    171\u001b[0m data_version_resource \u001b[39m=\u001b[39m data\u001b[39m.\u001b[39m_to_rest_object()\n\u001b[1;32m    172\u001b[0m auto_increment_version \u001b[39m=\u001b[39m data\u001b[39m.\u001b[39m_auto_increment_version\n",
            "File \u001b[0;32m~/miniconda3/envs/build-2023/lib/python3.9/site-packages/azure/ai/ml/_artifacts/_artifact_utilities.py:396\u001b[0m, in \u001b[0;36m_check_and_upload_path\u001b[0;34m(artifact, asset_operations, artifact_type, datastore_name, sas_uri)\u001b[0m\n\u001b[1;32m    394\u001b[0m \u001b[39mif\u001b[39;00m \u001b[39mnot\u001b[39;00m path\u001b[39m.\u001b[39mis_absolute():\n\u001b[1;32m    395\u001b[0m     path \u001b[39m=\u001b[39m Path(artifact\u001b[39m.\u001b[39mbase_path, path)\u001b[39m.\u001b[39mresolve()\n\u001b[0;32m--> 396\u001b[0m uploaded_artifact \u001b[39m=\u001b[39m _upload_to_datastore(\n\u001b[1;32m    397\u001b[0m     asset_operations\u001b[39m.\u001b[39;49m_operation_scope,\n\u001b[1;32m    398\u001b[0m     asset_operations\u001b[39m.\u001b[39;49m_datastore_operation,\n\u001b[1;32m    399\u001b[0m     path,\n\u001b[1;32m    400\u001b[0m     datastore_name\u001b[39m=\u001b[39;49mdatastore_name,\n\u001b[1;32m    401\u001b[0m     asset_name\u001b[39m=\u001b[39;49martifact\u001b[39m.\u001b[39;49mname,\n\u001b[1;32m    402\u001b[0m     asset_version\u001b[39m=\u001b[39;49m\u001b[39mstr\u001b[39;49m(artifact\u001b[39m.\u001b[39;49mversion),\n\u001b[1;32m    403\u001b[0m     asset_hash\u001b[39m=\u001b[39;49martifact\u001b[39m.\u001b[39;49m_upload_hash \u001b[39mif\u001b[39;49;00m \u001b[39mhasattr\u001b[39;49m(artifact, \u001b[39m\"\u001b[39;49m\u001b[39m_upload_hash\u001b[39;49m\u001b[39m\"\u001b[39;49m) \u001b[39melse\u001b[39;49;00m \u001b[39mNone\u001b[39;49;00m,\n\u001b[1;32m    404\u001b[0m     sas_uri\u001b[39m=\u001b[39;49msas_uri,\n\u001b[1;32m    405\u001b[0m     artifact_type\u001b[39m=\u001b[39;49martifact_type,\n\u001b[1;32m    406\u001b[0m )\n\u001b[1;32m    407\u001b[0m indicator_file \u001b[39m=\u001b[39m uploaded_artifact\u001b[39m.\u001b[39mindicator_file  \u001b[39m# reference to storage contents\u001b[39;00m\n\u001b[1;32m    408\u001b[0m \u001b[39mif\u001b[39;00m artifact\u001b[39m.\u001b[39m_is_anonymous:\n",
            "File \u001b[0;32m~/miniconda3/envs/build-2023/lib/python3.9/site-packages/azure/ai/ml/_artifacts/_artifact_utilities.py:297\u001b[0m, in \u001b[0;36m_upload_to_datastore\u001b[0;34m(operation_scope, datastore_operation, path, artifact_type, datastore_name, show_progress, asset_name, asset_version, asset_hash, ignore_file, sas_uri)\u001b[0m\n\u001b[1;32m    295\u001b[0m \u001b[39mif\u001b[39;00m \u001b[39mnot\u001b[39;00m asset_hash:\n\u001b[1;32m    296\u001b[0m     asset_hash \u001b[39m=\u001b[39m get_object_hash(path, ignore_file)\n\u001b[0;32m--> 297\u001b[0m artifact \u001b[39m=\u001b[39m upload_artifact(\n\u001b[1;32m    298\u001b[0m     \u001b[39mstr\u001b[39;49m(path),\n\u001b[1;32m    299\u001b[0m     datastore_operation,\n\u001b[1;32m    300\u001b[0m     operation_scope,\n\u001b[1;32m    301\u001b[0m     datastore_name,\n\u001b[1;32m    302\u001b[0m     show_progress\u001b[39m=\u001b[39;49mshow_progress,\n\u001b[1;32m    303\u001b[0m     asset_hash\u001b[39m=\u001b[39;49masset_hash,\n\u001b[1;32m    304\u001b[0m     asset_name\u001b[39m=\u001b[39;49masset_name,\n\u001b[1;32m    305\u001b[0m     asset_version\u001b[39m=\u001b[39;49masset_version,\n\u001b[1;32m    306\u001b[0m     ignore_file\u001b[39m=\u001b[39;49mignore_file,\n\u001b[1;32m    307\u001b[0m     sas_uri\u001b[39m=\u001b[39;49msas_uri,\n\u001b[1;32m    308\u001b[0m )\n\u001b[1;32m    309\u001b[0m \u001b[39mreturn\u001b[39;00m artifact\n",
            "File \u001b[0;32m~/miniconda3/envs/build-2023/lib/python3.9/site-packages/azure/ai/ml/_artifacts/_artifact_utilities.py:175\u001b[0m, in \u001b[0;36mupload_artifact\u001b[0;34m(local_path, datastore_operation, operation_scope, datastore_name, asset_hash, show_progress, asset_name, asset_version, ignore_file, sas_uri)\u001b[0m\n\u001b[1;32m    173\u001b[0m \u001b[39melse\u001b[39;00m:\n\u001b[1;32m    174\u001b[0m     datastore_name \u001b[39m=\u001b[39m _get_datastore_name(datastore_name\u001b[39m=\u001b[39mdatastore_name)\n\u001b[0;32m--> 175\u001b[0m     datastore_info \u001b[39m=\u001b[39m get_datastore_info(datastore_operation, datastore_name)\n\u001b[1;32m    176\u001b[0m     storage_client \u001b[39m=\u001b[39m get_storage_client(\u001b[39m*\u001b[39m\u001b[39m*\u001b[39mdatastore_info)\n\u001b[1;32m    178\u001b[0m artifact_info \u001b[39m=\u001b[39m storage_client\u001b[39m.\u001b[39mupload(\n\u001b[1;32m    179\u001b[0m     local_path,\n\u001b[1;32m    180\u001b[0m     asset_hash\u001b[39m=\u001b[39masset_hash,\n\u001b[0;32m   (...)\u001b[0m\n\u001b[1;32m    184\u001b[0m     ignore_file\u001b[39m=\u001b[39mignore_file,\n\u001b[1;32m    185\u001b[0m )\n",
            "File \u001b[0;32m~/miniconda3/envs/build-2023/lib/python3.9/site-packages/azure/ai/ml/_artifacts/_artifact_utilities.py:68\u001b[0m, in \u001b[0;36mget_datastore_info\u001b[0;34m(operations, name)\u001b[0m\n\u001b[1;32m     66\u001b[0m datastore_info \u001b[39m=\u001b[39m {}\n\u001b[1;32m     67\u001b[0m \u001b[39mif\u001b[39;00m name:\n\u001b[0;32m---> 68\u001b[0m     datastore \u001b[39m=\u001b[39m operations\u001b[39m.\u001b[39;49mget(name, include_secrets\u001b[39m=\u001b[39;49m\u001b[39mTrue\u001b[39;49;00m)\n\u001b[1;32m     69\u001b[0m \u001b[39melse\u001b[39;00m:\n\u001b[1;32m     70\u001b[0m     datastore \u001b[39m=\u001b[39m operations\u001b[39m.\u001b[39mget_default(include_secrets\u001b[39m=\u001b[39m\u001b[39mTrue\u001b[39;00m)\n",
            "File \u001b[0;32m~/miniconda3/envs/build-2023/lib/python3.9/site-packages/azure/ai/ml/_telemetry/activity.py:260\u001b[0m, in \u001b[0;36mmonitor_with_activity.<locals>.monitor.<locals>.wrapper\u001b[0;34m(*args, **kwargs)\u001b[0m\n\u001b[1;32m    257\u001b[0m \u001b[39m@functools\u001b[39m\u001b[39m.\u001b[39mwraps(f)\n\u001b[1;32m    258\u001b[0m \u001b[39mdef\u001b[39;00m \u001b[39mwrapper\u001b[39m(\u001b[39m*\u001b[39margs, \u001b[39m*\u001b[39m\u001b[39m*\u001b[39mkwargs):\n\u001b[1;32m    259\u001b[0m     \u001b[39mwith\u001b[39;00m log_activity(logger, activity_name \u001b[39mor\u001b[39;00m f\u001b[39m.\u001b[39m\u001b[39m__name__\u001b[39m, activity_type, custom_dimensions):\n\u001b[0;32m--> 260\u001b[0m         \u001b[39mreturn\u001b[39;00m f(\u001b[39m*\u001b[39;49margs, \u001b[39m*\u001b[39;49m\u001b[39m*\u001b[39;49mkwargs)\n",
            "File \u001b[0;32m~/miniconda3/envs/build-2023/lib/python3.9/site-packages/azure/ai/ml/operations/_datastore_operations.py:100\u001b[0m, in \u001b[0;36mDatastoreOperations.get\u001b[0;34m(self, name, include_secrets)\u001b[0m\n\u001b[1;32m     87\u001b[0m \u001b[39m@monitor_with_activity\u001b[39m(logger, \u001b[39m\"\u001b[39m\u001b[39mDatastore.Get\u001b[39m\u001b[39m\"\u001b[39m, ActivityType\u001b[39m.\u001b[39mPUBLICAPI)\n\u001b[1;32m     88\u001b[0m \u001b[39mdef\u001b[39;00m \u001b[39mget\u001b[39m(\u001b[39mself\u001b[39m, name: \u001b[39mstr\u001b[39m, \u001b[39m*\u001b[39m, include_secrets: \u001b[39mbool\u001b[39m \u001b[39m=\u001b[39m \u001b[39mFalse\u001b[39;00m) \u001b[39m-\u001b[39m\u001b[39m>\u001b[39m Datastore:\n\u001b[1;32m     89\u001b[0m \u001b[39m    \u001b[39m\u001b[39m\"\"\"Returns information about the datastore referenced by the given\u001b[39;00m\n\u001b[1;32m     90\u001b[0m \u001b[39m    name.\u001b[39;00m\n\u001b[1;32m     91\u001b[0m \n\u001b[0;32m   (...)\u001b[0m\n\u001b[1;32m     97\u001b[0m \u001b[39m    :rtype: Datastore\u001b[39;00m\n\u001b[1;32m     98\u001b[0m \u001b[39m    \"\"\"\u001b[39;00m\n\u001b[0;32m--> 100\u001b[0m     datastore_resource \u001b[39m=\u001b[39m \u001b[39mself\u001b[39;49m\u001b[39m.\u001b[39;49m_operation\u001b[39m.\u001b[39;49mget(\n\u001b[1;32m    101\u001b[0m         name\u001b[39m=\u001b[39;49mname,\n\u001b[1;32m    102\u001b[0m         resource_group_name\u001b[39m=\u001b[39;49m\u001b[39mself\u001b[39;49m\u001b[39m.\u001b[39;49m_operation_scope\u001b[39m.\u001b[39;49mresource_group_name,\n\u001b[1;32m    103\u001b[0m         workspace_name\u001b[39m=\u001b[39;49m\u001b[39mself\u001b[39;49m\u001b[39m.\u001b[39;49m_workspace_name,\n\u001b[1;32m    104\u001b[0m         \u001b[39m*\u001b[39;49m\u001b[39m*\u001b[39;49m\u001b[39mself\u001b[39;49m\u001b[39m.\u001b[39;49m_init_kwargs\n\u001b[1;32m    105\u001b[0m     )\n\u001b[1;32m    106\u001b[0m     \u001b[39mif\u001b[39;00m include_secrets:\n\u001b[1;32m    107\u001b[0m         \u001b[39mself\u001b[39m\u001b[39m.\u001b[39m_fetch_and_populate_secret(datastore_resource)\n",
            "File \u001b[0;32m~/miniconda3/envs/build-2023/lib/python3.9/site-packages/azure/core/tracing/decorator.py:76\u001b[0m, in \u001b[0;36mdistributed_trace.<locals>.decorator.<locals>.wrapper_use_tracer\u001b[0;34m(*args, **kwargs)\u001b[0m\n\u001b[1;32m     74\u001b[0m span_impl_type \u001b[39m=\u001b[39m settings\u001b[39m.\u001b[39mtracing_implementation()\n\u001b[1;32m     75\u001b[0m \u001b[39mif\u001b[39;00m span_impl_type \u001b[39mis\u001b[39;00m \u001b[39mNone\u001b[39;00m:\n\u001b[0;32m---> 76\u001b[0m     \u001b[39mreturn\u001b[39;00m func(\u001b[39m*\u001b[39;49margs, \u001b[39m*\u001b[39;49m\u001b[39m*\u001b[39;49mkwargs)\n\u001b[1;32m     78\u001b[0m \u001b[39m# Merge span is parameter is set, but only if no explicit parent are passed\u001b[39;00m\n\u001b[1;32m     79\u001b[0m \u001b[39mif\u001b[39;00m merge_span \u001b[39mand\u001b[39;00m \u001b[39mnot\u001b[39;00m passed_in_parent:\n",
            "File \u001b[0;32m~/miniconda3/envs/build-2023/lib/python3.9/site-packages/azure/ai/ml/_restclient/v2022_05_01/operations/_datastores_operations.py:483\u001b[0m, in \u001b[0;36mDatastoresOperations.get\u001b[0;34m(self, resource_group_name, workspace_name, name, **kwargs)\u001b[0m\n\u001b[1;32m    480\u001b[0m request \u001b[39m=\u001b[39m _convert_request(request)\n\u001b[1;32m    481\u001b[0m request\u001b[39m.\u001b[39murl \u001b[39m=\u001b[39m \u001b[39mself\u001b[39m\u001b[39m.\u001b[39m_client\u001b[39m.\u001b[39mformat_url(request\u001b[39m.\u001b[39murl)\n\u001b[0;32m--> 483\u001b[0m pipeline_response \u001b[39m=\u001b[39m \u001b[39mself\u001b[39;49m\u001b[39m.\u001b[39;49m_client\u001b[39m.\u001b[39;49m_pipeline\u001b[39m.\u001b[39;49mrun(request, stream\u001b[39m=\u001b[39;49m\u001b[39mFalse\u001b[39;49;00m, \u001b[39m*\u001b[39;49m\u001b[39m*\u001b[39;49mkwargs)\n\u001b[1;32m    484\u001b[0m response \u001b[39m=\u001b[39m pipeline_response\u001b[39m.\u001b[39mhttp_response\n\u001b[1;32m    486\u001b[0m \u001b[39mif\u001b[39;00m response\u001b[39m.\u001b[39mstatus_code \u001b[39mnot\u001b[39;00m \u001b[39min\u001b[39;00m [\u001b[39m200\u001b[39m]:\n",
            "File \u001b[0;32m~/miniconda3/envs/build-2023/lib/python3.9/site-packages/azure/core/pipeline/_base.py:202\u001b[0m, in \u001b[0;36mPipeline.run\u001b[0;34m(self, request, **kwargs)\u001b[0m\n\u001b[1;32m    200\u001b[0m pipeline_request: PipelineRequest[HTTPRequestType] \u001b[39m=\u001b[39m PipelineRequest(request, context)\n\u001b[1;32m    201\u001b[0m first_node \u001b[39m=\u001b[39m \u001b[39mself\u001b[39m\u001b[39m.\u001b[39m_impl_policies[\u001b[39m0\u001b[39m] \u001b[39mif\u001b[39;00m \u001b[39mself\u001b[39m\u001b[39m.\u001b[39m_impl_policies \u001b[39melse\u001b[39;00m _TransportRunner(\u001b[39mself\u001b[39m\u001b[39m.\u001b[39m_transport)\n\u001b[0;32m--> 202\u001b[0m \u001b[39mreturn\u001b[39;00m first_node\u001b[39m.\u001b[39;49msend(pipeline_request)\n",
            "File \u001b[0;32m~/miniconda3/envs/build-2023/lib/python3.9/site-packages/azure/core/pipeline/_base.py:70\u001b[0m, in \u001b[0;36m_SansIOHTTPPolicyRunner.send\u001b[0;34m(self, request)\u001b[0m\n\u001b[1;32m     68\u001b[0m _await_result(\u001b[39mself\u001b[39m\u001b[39m.\u001b[39m_policy\u001b[39m.\u001b[39mon_request, request)\n\u001b[1;32m     69\u001b[0m \u001b[39mtry\u001b[39;00m:\n\u001b[0;32m---> 70\u001b[0m     response \u001b[39m=\u001b[39m \u001b[39mself\u001b[39;49m\u001b[39m.\u001b[39;49mnext\u001b[39m.\u001b[39;49msend(request)\n\u001b[1;32m     71\u001b[0m \u001b[39mexcept\u001b[39;00m \u001b[39mException\u001b[39;00m:  \u001b[39m# pylint: disable=broad-except\u001b[39;00m\n\u001b[1;32m     72\u001b[0m     _await_result(\u001b[39mself\u001b[39m\u001b[39m.\u001b[39m_policy\u001b[39m.\u001b[39mon_exception, request)\n",
            "File \u001b[0;32m~/miniconda3/envs/build-2023/lib/python3.9/site-packages/azure/core/pipeline/_base.py:70\u001b[0m, in \u001b[0;36m_SansIOHTTPPolicyRunner.send\u001b[0;34m(self, request)\u001b[0m\n\u001b[1;32m     68\u001b[0m _await_result(\u001b[39mself\u001b[39m\u001b[39m.\u001b[39m_policy\u001b[39m.\u001b[39mon_request, request)\n\u001b[1;32m     69\u001b[0m \u001b[39mtry\u001b[39;00m:\n\u001b[0;32m---> 70\u001b[0m     response \u001b[39m=\u001b[39m \u001b[39mself\u001b[39;49m\u001b[39m.\u001b[39;49mnext\u001b[39m.\u001b[39;49msend(request)\n\u001b[1;32m     71\u001b[0m \u001b[39mexcept\u001b[39;00m \u001b[39mException\u001b[39;00m:  \u001b[39m# pylint: disable=broad-except\u001b[39;00m\n\u001b[1;32m     72\u001b[0m     _await_result(\u001b[39mself\u001b[39m\u001b[39m.\u001b[39m_policy\u001b[39m.\u001b[39mon_exception, request)\n",
            "    \u001b[0;31m[... skipping similar frames: _SansIOHTTPPolicyRunner.send at line 70 (2 times)]\u001b[0m\n",
            "File \u001b[0;32m~/miniconda3/envs/build-2023/lib/python3.9/site-packages/azure/core/pipeline/_base.py:70\u001b[0m, in \u001b[0;36m_SansIOHTTPPolicyRunner.send\u001b[0;34m(self, request)\u001b[0m\n\u001b[1;32m     68\u001b[0m _await_result(\u001b[39mself\u001b[39m\u001b[39m.\u001b[39m_policy\u001b[39m.\u001b[39mon_request, request)\n\u001b[1;32m     69\u001b[0m \u001b[39mtry\u001b[39;00m:\n\u001b[0;32m---> 70\u001b[0m     response \u001b[39m=\u001b[39m \u001b[39mself\u001b[39;49m\u001b[39m.\u001b[39;49mnext\u001b[39m.\u001b[39;49msend(request)\n\u001b[1;32m     71\u001b[0m \u001b[39mexcept\u001b[39;00m \u001b[39mException\u001b[39;00m:  \u001b[39m# pylint: disable=broad-except\u001b[39;00m\n\u001b[1;32m     72\u001b[0m     _await_result(\u001b[39mself\u001b[39m\u001b[39m.\u001b[39m_policy\u001b[39m.\u001b[39mon_exception, request)\n",
            "File \u001b[0;32m~/miniconda3/envs/build-2023/lib/python3.9/site-packages/azure/mgmt/core/policies/_base.py:46\u001b[0m, in \u001b[0;36mARMAutoResourceProviderRegistrationPolicy.send\u001b[0;34m(self, request)\u001b[0m\n\u001b[1;32m     43\u001b[0m \u001b[39mdef\u001b[39;00m \u001b[39msend\u001b[39m(\u001b[39mself\u001b[39m, request):\n\u001b[1;32m     44\u001b[0m     \u001b[39m# type: (PipelineRequest[HTTPRequestType], Any) -> PipelineResponse[HTTPRequestType, HTTPResponseType]\u001b[39;00m\n\u001b[1;32m     45\u001b[0m     http_request \u001b[39m=\u001b[39m request\u001b[39m.\u001b[39mhttp_request\n\u001b[0;32m---> 46\u001b[0m     response \u001b[39m=\u001b[39m \u001b[39mself\u001b[39;49m\u001b[39m.\u001b[39;49mnext\u001b[39m.\u001b[39;49msend(request)\n\u001b[1;32m     47\u001b[0m     \u001b[39mif\u001b[39;00m response\u001b[39m.\u001b[39mhttp_response\u001b[39m.\u001b[39mstatus_code \u001b[39m==\u001b[39m \u001b[39m409\u001b[39m:\n\u001b[1;32m     48\u001b[0m         rp_name \u001b[39m=\u001b[39m \u001b[39mself\u001b[39m\u001b[39m.\u001b[39m_check_rp_not_registered_err(response)\n",
            "File \u001b[0;32m~/miniconda3/envs/build-2023/lib/python3.9/site-packages/azure/core/pipeline/policies/_redirect.py:156\u001b[0m, in \u001b[0;36mRedirectPolicy.send\u001b[0;34m(self, request)\u001b[0m\n\u001b[1;32m    154\u001b[0m redirect_settings \u001b[39m=\u001b[39m \u001b[39mself\u001b[39m\u001b[39m.\u001b[39mconfigure_redirects(request\u001b[39m.\u001b[39mcontext\u001b[39m.\u001b[39moptions)\n\u001b[1;32m    155\u001b[0m \u001b[39mwhile\u001b[39;00m retryable:\n\u001b[0;32m--> 156\u001b[0m     response \u001b[39m=\u001b[39m \u001b[39mself\u001b[39;49m\u001b[39m.\u001b[39;49mnext\u001b[39m.\u001b[39;49msend(request)\n\u001b[1;32m    157\u001b[0m     redirect_location \u001b[39m=\u001b[39m \u001b[39mself\u001b[39m\u001b[39m.\u001b[39mget_redirect_location(response)\n\u001b[1;32m    158\u001b[0m     \u001b[39mif\u001b[39;00m redirect_location \u001b[39mand\u001b[39;00m redirect_settings[\u001b[39m\"\u001b[39m\u001b[39mallow\u001b[39m\u001b[39m\"\u001b[39m]:\n",
            "File \u001b[0;32m~/miniconda3/envs/build-2023/lib/python3.9/site-packages/azure/core/pipeline/policies/_retry.py:448\u001b[0m, in \u001b[0;36mRetryPolicy.send\u001b[0;34m(self, request)\u001b[0m\n\u001b[1;32m    446\u001b[0m start_time \u001b[39m=\u001b[39m time\u001b[39m.\u001b[39mtime()\n\u001b[1;32m    447\u001b[0m \u001b[39mself\u001b[39m\u001b[39m.\u001b[39m_configure_timeout(request, absolute_timeout, is_response_error)\n\u001b[0;32m--> 448\u001b[0m response \u001b[39m=\u001b[39m \u001b[39mself\u001b[39;49m\u001b[39m.\u001b[39;49mnext\u001b[39m.\u001b[39;49msend(request)\n\u001b[1;32m    449\u001b[0m \u001b[39mif\u001b[39;00m \u001b[39mself\u001b[39m\u001b[39m.\u001b[39mis_retry(retry_settings, response):\n\u001b[1;32m    450\u001b[0m     retry_active \u001b[39m=\u001b[39m \u001b[39mself\u001b[39m\u001b[39m.\u001b[39mincrement(retry_settings, response\u001b[39m=\u001b[39mresponse)\n",
            "File \u001b[0;32m~/miniconda3/envs/build-2023/lib/python3.9/site-packages/azure/core/pipeline/policies/_authentication.py:108\u001b[0m, in \u001b[0;36mBearerTokenCredentialPolicy.send\u001b[0;34m(self, request)\u001b[0m\n\u001b[1;32m    102\u001b[0m \u001b[39mdef\u001b[39;00m \u001b[39msend\u001b[39m(\u001b[39mself\u001b[39m, request: \u001b[39m\"\u001b[39m\u001b[39mPipelineRequest\u001b[39m\u001b[39m\"\u001b[39m) \u001b[39m-\u001b[39m\u001b[39m>\u001b[39m \u001b[39m\"\u001b[39m\u001b[39mPipelineResponse\u001b[39m\u001b[39m\"\u001b[39m:\n\u001b[1;32m    103\u001b[0m \u001b[39m    \u001b[39m\u001b[39m\"\"\"Authorize request with a bearer token and send it to the next policy\u001b[39;00m\n\u001b[1;32m    104\u001b[0m \n\u001b[1;32m    105\u001b[0m \u001b[39m    :param request: The pipeline request object\u001b[39;00m\n\u001b[1;32m    106\u001b[0m \u001b[39m    :type request: ~azure.core.pipeline.PipelineRequest\u001b[39;00m\n\u001b[1;32m    107\u001b[0m \u001b[39m    \"\"\"\u001b[39;00m\n\u001b[0;32m--> 108\u001b[0m     \u001b[39mself\u001b[39;49m\u001b[39m.\u001b[39;49mon_request(request)\n\u001b[1;32m    109\u001b[0m     \u001b[39mtry\u001b[39;00m:\n\u001b[1;32m    110\u001b[0m         response \u001b[39m=\u001b[39m \u001b[39mself\u001b[39m\u001b[39m.\u001b[39mnext\u001b[39m.\u001b[39msend(request)\n",
            "File \u001b[0;32m~/miniconda3/envs/build-2023/lib/python3.9/site-packages/azure/core/pipeline/policies/_authentication.py:87\u001b[0m, in \u001b[0;36mBearerTokenCredentialPolicy.on_request\u001b[0;34m(self, request)\u001b[0m\n\u001b[1;32m     84\u001b[0m \u001b[39mself\u001b[39m\u001b[39m.\u001b[39m_enforce_https(request)\n\u001b[1;32m     86\u001b[0m \u001b[39mif\u001b[39;00m \u001b[39mself\u001b[39m\u001b[39m.\u001b[39m_token \u001b[39mis\u001b[39;00m \u001b[39mNone\u001b[39;00m \u001b[39mor\u001b[39;00m \u001b[39mself\u001b[39m\u001b[39m.\u001b[39m_need_new_token:\n\u001b[0;32m---> 87\u001b[0m     \u001b[39mself\u001b[39m\u001b[39m.\u001b[39m_token \u001b[39m=\u001b[39m \u001b[39mself\u001b[39;49m\u001b[39m.\u001b[39;49m_credential\u001b[39m.\u001b[39;49mget_token(\u001b[39m*\u001b[39;49m\u001b[39mself\u001b[39;49m\u001b[39m.\u001b[39;49m_scopes)\n\u001b[1;32m     88\u001b[0m \u001b[39mself\u001b[39m\u001b[39m.\u001b[39m_update_headers(request\u001b[39m.\u001b[39mhttp_request\u001b[39m.\u001b[39mheaders, \u001b[39mself\u001b[39m\u001b[39m.\u001b[39m_token\u001b[39m.\u001b[39mtoken)\n",
            "File \u001b[0;32m~/miniconda3/envs/build-2023/lib/python3.9/site-packages/azure/identity/_credentials/default.py:172\u001b[0m, in \u001b[0;36mDefaultAzureCredential.get_token\u001b[0;34m(self, *scopes, **kwargs)\u001b[0m\n\u001b[1;32m    167\u001b[0m     _LOGGER\u001b[39m.\u001b[39minfo(\n\u001b[1;32m    168\u001b[0m         \u001b[39m\"\u001b[39m\u001b[39m%s\u001b[39;00m\u001b[39m acquired a token from \u001b[39m\u001b[39m%s\u001b[39;00m\u001b[39m\"\u001b[39m, \u001b[39mself\u001b[39m\u001b[39m.\u001b[39m\u001b[39m__class__\u001b[39m\u001b[39m.\u001b[39m\u001b[39m__name__\u001b[39m, \u001b[39mself\u001b[39m\u001b[39m.\u001b[39m_successful_credential\u001b[39m.\u001b[39m\u001b[39m__class__\u001b[39m\u001b[39m.\u001b[39m\u001b[39m__name__\u001b[39m\n\u001b[1;32m    169\u001b[0m     )\n\u001b[1;32m    170\u001b[0m     \u001b[39mreturn\u001b[39;00m token\n\u001b[0;32m--> 172\u001b[0m \u001b[39mreturn\u001b[39;00m \u001b[39msuper\u001b[39;49m(DefaultAzureCredential, \u001b[39mself\u001b[39;49m)\u001b[39m.\u001b[39;49mget_token(\u001b[39m*\u001b[39;49mscopes, \u001b[39m*\u001b[39;49m\u001b[39m*\u001b[39;49mkwargs)\n",
            "File \u001b[0;32m~/miniconda3/envs/build-2023/lib/python3.9/site-packages/azure/identity/_credentials/chained.py:108\u001b[0m, in \u001b[0;36mChainedTokenCredential.get_token\u001b[0;34m(self, *scopes, **kwargs)\u001b[0m\n\u001b[1;32m    104\u001b[0m message \u001b[39m=\u001b[39m \u001b[39mself\u001b[39m\u001b[39m.\u001b[39m\u001b[39m__class__\u001b[39m\u001b[39m.\u001b[39m\u001b[39m__name__\u001b[39m \u001b[39m+\u001b[39m \u001b[39m\"\u001b[39m\u001b[39m failed to retrieve a token from the included credentials.\u001b[39m\u001b[39m\"\u001b[39m \u001b[39m+\u001b[39m attempts \\\n\u001b[1;32m    105\u001b[0m           \u001b[39m+\u001b[39m \u001b[39m\"\u001b[39m\u001b[39m\\n\u001b[39;00m\u001b[39mTo mitigate this issue, please refer to the troubleshooting guidelines here at \u001b[39m\u001b[39m\"\u001b[39m \\\n\u001b[1;32m    106\u001b[0m             \u001b[39m\"\u001b[39m\u001b[39mhttps://aka.ms/azsdk/python/identity/defaultazurecredential/troubleshoot.\u001b[39m\u001b[39m\"\u001b[39m\n\u001b[1;32m    107\u001b[0m _LOGGER\u001b[39m.\u001b[39mwarning(message)\n\u001b[0;32m--> 108\u001b[0m \u001b[39mraise\u001b[39;00m ClientAuthenticationError(message\u001b[39m=\u001b[39mmessage)\n",
            "\u001b[0;31mClientAuthenticationError\u001b[0m: DefaultAzureCredential failed to retrieve a token from the included credentials.\nAttempted credentials:\n\tEnvironmentCredential: EnvironmentCredential authentication unavailable. Environment variables are not fully configured.\nVisit https://aka.ms/azsdk/python/identity/environmentcredential/troubleshoot to troubleshoot.this issue.\n\tManagedIdentityCredential: ManagedIdentityCredential authentication unavailable, no response from the IMDS endpoint.\n\tSharedTokenCacheCredential: SharedTokenCacheCredential authentication unavailable. No accounts were found in the cache.\n\tVisualStudioCodeCredential: Failed to get Azure user details from Visual Studio Code.\n\tAzureCliCredential: ERROR: The command failed with an unexpected error. Here is the traceback:\nERROR: 0. The ID token is not yet valid. Make sure your computer's time and time zone are both correct. Current epoch = 1683147857.  The id_token was: {\n  \"aud\": \"04b07795-8ddb-461a-bbee-02f9e1bf7b46\",\n  \"iss\": \"https://login.microsoftonline.com/72f988bf-86f1-41af-91ab-2d7cd011db47/v2.0\",\n  \"iat\": 1683149545,\n  \"nbf\": 1683149545,\n  \"exp\": 1683153445,\n  \"aio\": \"AXQAi/8TAAAAAZeIUI4fE1uJxtC56UoCtl70B489N5wsN4J0pmAGc61pox1o7o0TzjhK4ynRCVuXjvcET0/xmXlEgh0Di3eKkbIofxjafzv07pVVZluMua6rnca2urVBPlDSfmYVY1ZxWhNDceEp3yNhoA+xqoSfhA==\",\n  \"name\": \"Beatriz Stollnitz\",\n  \"nonce\": \"ce8593a4f3f83fe7045cf4b7e5ea1cb82c6b928a46966c8acd679d0108563fb6\",\n  \"oid\": \"9911b582-2936-4fe0-8820-398abbba43d8\",\n  \"preferred_username\": \"bstollnitz@microsoft.com\",\n  \"puid\": \"100320013B85C897\",\n  \"rh\": \"0.AQEAv4j5cvGGr0GRqy180BHbR5V3sATbjRpGu-4C-eG_e0YaANk.\",\n  \"sub\": \"N0ml0zUvWJY2e4ai8L0kG_q8ptMSW2JMbI9bBknSa4E\",\n  \"tid\": \"72f988bf-86f1-41af-91ab-2d7cd011db47\",\n  \"uti\": \"ivmWqB41LU6oSNki_p8IAQ\",\n  \"ver\": \"2.0\"\n}\nTraceback (most recent call last):\n  File \"/opt/az/lib/python3.10/site-packages/knack/cli.py\", line 233, in invoke\n    cmd_result = self.invocation.execute(args)\n  File \"/opt/az/lib/python3.10/site-packages/azure/cli/core/commands/__init__.py\", line 663, in execute\n    raise ex\n  File \"/opt/az/lib/python3.10/site-packages/azure/cli/core/commands/__init__.py\", line 726, in _run_jobs_serially\n    results.append(self._run_job(expanded_arg, cmd_copy))\n  File \"/opt/az/lib/python3.10/site-packages/azure/cli/core/commands/__init__.py\", line 697, in _run_job\n    result = cmd_copy(params)\n  File \"/opt/az/lib/python3.10/site-packages/azure/cli/core/commands/__init__.py\", line 333, in __call__\n    return self.handler(*args, **kwargs)\n  File \"/opt/az/lib/python3.10/site-packages/azure/cli/core/commands/command_operation.py\", line 121, in handler\n    return op(**command_args)\n  File \"/opt/az/lib/python3.10/site-packages/azure/cli/command_modules/profile/custom.py\", line 66, in get_access_token\n    creds, subscription, tenant = profile.get_raw_token(subscription=subscription, resource=resource, scopes=scopes,\n  File \"/opt/az/lib/python3.10/site-packages/azure/cli/core/_profile.py\", line 383, in get_raw_token\n    sdk_token = credential.get_token(*scopes)\n  File \"/opt/az/lib/python3.10/site-packages/azure/cli/core/auth/msal_authentication.py\", line 63, in get_token\n    result = self.acquire_token_silent_with_error(list(scopes), self._account, claims_challenge=claims, **kwargs)\n  File \"/opt/az/lib/python3.10/site-packages/msal/application.py\", line 1287, in acquire_token_silent_with_error\n    result = self._acquire_token_silent_from_cache_and_possibly_refresh_it(\n  File \"/opt/az/lib/python3.10/site-packages/msal/application.py\", line 1392, in _acquire_token_silent_from_cache_and_possibly_refresh_it\n    result = _clean_up(self._acquire_token_silent_by_finding_rt_belongs_to_me_or_my_family(\n  File \"/opt/az/lib/python3.10/site-packages/msal/application.py\", line 1444, in _acquire_token_silent_by_finding_rt_belongs_to_me_or_my_family\n    last_resp = at = self._acquire_token_silent_by_finding_specific_refresh_token(\n  File \"/opt/az/lib/python3.10/site-packages/msal/application.py\", line 1491, in _acquire_token_silent_by_finding_specific_refresh_token\n    response = client.obtain_token_by_refresh_token(\n  File \"/opt/az/lib/python3.10/site-packages/msal/oauth2cli/oauth2.py\", line 830, in obtain_token_by_refresh_token\n    resp = super(Client, self).obtain_token_by_refresh_token(\n  File \"/opt/az/lib/python3.10/site-packages/msal/oauth2cli/oauth2.py\", line 262, in obtain_token_by_refresh_token\n    return self._obtain_token(\"refresh_token\", data=data, **kwargs)\n  File \"/opt/az/lib/python3.10/site-packages/msal/oauth2cli/oidc.py\", line 116, in _obtain_token\n    ret = super(Client, self)._obtain_token(grant_type, *args, **kwargs)\n  File \"/opt/az/lib/python3.10/site-packages/msal/oauth2cli/oauth2.py\", line 788, in _obtain_token\n    (on_obtaining_tokens or self.on_obtaining_tokens)({\n  File \"/opt/az/lib/python3.10/site-packages/msal/application.py\", line 1496, in <lambda>\n    on_obtaining_tokens=lambda event: self.token_cache.add(dict(\n  File \"/opt/az/lib/python3.10/site-packages/msal/token_cache.py\", line 314, in add\n    super(SerializableTokenCache, self).add(event, **kwargs)\n  File \"/opt/az/lib/python3.10/site-packages/msal/token_cache.py\", line 117, in add\n    return self.__add(event, now=now)\n  File \"/opt/az/lib/python3.10/site-packages/msal/token_cache.py\", line 158, in __add\n    decode_id_token(id_token, client_id=event[\"client_id\"]) if id_token else {})\n  File \"/opt/az/lib/python3.10/site-packages/msal/oauth2cli/oidc.py\", line 77, in decode_id_token\n    raise RuntimeError(\"%s Current epoch = %s.  The id_token was: %s\" % (\nRuntimeError: 0. The ID token is not yet valid. Make sure your computer's time and time zone are both correct. Current epoch = 1683147857.  The id_token was: {\n  \"aud\": \"04b07795-8ddb-461a-bbee-02f9e1bf7b46\",\n  \"iss\": \"https://login.microsoftonline.com/72f988bf-86f1-41af-91ab-2d7cd011db47/v2.0\",\n  \"iat\": 1683149545,\n  \"nbf\": 1683149545,\n  \"exp\": 1683153445,\n  \"aio\": \"AXQAi/8TAAAAAZeIUI4fE1uJxtC56UoCtl70B489N5wsN4J0pmAGc61pox1o7o0TzjhK4ynRCVuXjvcET0/xmXlEgh0Di3eKkbIofxjafzv07pVVZluMua6rnca2urVBPlDSfmYVY1ZxWhNDceEp3yNhoA+xqoSfhA==\",\n  \"name\": \"Beatriz Stollnitz\",\n  \"nonce\": \"ce8593a4f3f83fe7045cf4b7e5ea1cb82c6b928a46966c8acd679d0108563fb6\",\n  \"oid\": \"9911b582-2936-4fe0-8820-398abbba43d8\",\n  \"preferred_username\": \"bstollnitz@microsoft.com\",\n  \"puid\": \"100320013B85C897\",\n  \"rh\": \"0.AQEAv4j5cvGGr0GRqy180BHbR5V3sATbjRpGu-4C-eG_e0YaANk.\",\n  \"sub\": \"N0ml0zUvWJY2e4ai8L0kG_q8ptMSW2JMbI9bBknSa4E\",\n  \"tid\": \"72f988bf-86f1-41af-91ab-2d7cd011db47\",\n  \"uti\": \"ivmWqB41LU6oSNki_p8IAQ\",\n  \"ver\": \"2.0\"\n}\nTo check existing issues, please visit: https://github.com/Azure/azure-cli/issues\nTo open a new issue, please run `az feedback`\n\nTo mitigate this issue, please refer to the troubleshooting guidelines here at https://aka.ms/azsdk/python/identity/defaultazurecredential/troubleshoot."
          ]
        }
      ],
      "source": [
        "from azure.ai.ml.entities import Data\n",
        "from azure.ai.ml.constants import AssetTypes\n",
        "\n",
        "TRAIN_DATA_NAME = 'hospital_train_parquet'\n",
        "TEST_DATA_NAME = 'hospital_test_parquet'\n",
        "\n",
        "training_data = Data(\n",
        "    name=TRAIN_DATA_NAME,\n",
        "    path='data/training_data.parquet',\n",
        "    type=AssetTypes.URI_FILE,\n",
        "    description='RAI hospital train data'\n",
        ")\n",
        "tr_data = ml_client.data.create_or_update(training_data)\n",
        "\n",
        "test_data = Data(\n",
        "    name=TEST_DATA_NAME,\n",
        "    path='data/testing_data.parquet',\n",
        "    type=AssetTypes.URI_FILE,\n",
        "    description='RAI hospital test data'\n",
        ")\n",
        "ts_data = ml_client.data.create_or_update(test_data)"
      ]
    },
    {
      "attachments": {},
      "cell_type": "markdown",
      "metadata": {},
      "source": [
        "## Task 4: Create a compute cluster"
      ]
    },
    {
      "cell_type": "code",
      "execution_count": null,
      "metadata": {
        "gather": {
          "logged": 1682024276497
        },
        "jupyter": {
          "outputs_hidden": false,
          "source_hidden": false
        },
        "nteract": {
          "transient": {
            "deleting": false
          }
        }
      },
      "outputs": [
        {
          "data": {
            "text/plain": [
              "<azure.core.polling._poller.LROPoller at 0x7fcb8170ba30>"
            ]
          },
          "execution_count": 3,
          "metadata": {},
          "output_type": "execute_result"
        }
      ],
      "source": [
        "from azure.ai.ml.entities import AmlCompute\n",
        "\n",
        "COMPUTE_NAME = 'trainingcompute'\n",
        "\n",
        "my_compute = AmlCompute(\n",
        "    name=COMPUTE_NAME,\n",
        "    size='Standard_DS2_v2',\n",
        "    min_instances=0,\n",
        "    max_instances=4,\n",
        "    idle_time_before_scale_down=3600\n",
        ")\n",
        "ml_client.compute.begin_create_or_update(my_compute)"
      ]
    },
    {
      "attachments": {},
      "cell_type": "markdown",
      "metadata": {},
      "source": [
        "## Task 5: Create the job"
      ]
    },
    {
      "cell_type": "code",
      "execution_count": null,
      "metadata": {},
      "outputs": [
        {
          "name": "stdout",
          "output_type": "stream",
          "text": [
            "RunId: good_loquat_kpfzrg3f6s\n",
            "Web View: https://ml.azure.com/runs/good_loquat_kpfzrg3f6s?wsid=/subscriptions/92a04f75-fa76-4b98-bc2e-ac45670d4044/resourcegroups/rg-bstollnitz/workspaces/mlws-bstollnitz\n",
            "\n",
            "Execution Summary\n",
            "=================\n",
            "RunId: good_loquat_kpfzrg3f6s\n",
            "Web View: https://ml.azure.com/runs/good_loquat_kpfzrg3f6s?wsid=/subscriptions/92a04f75-fa76-4b98-bc2e-ac45670d4044/resourcegroups/rg-bstollnitz/workspaces/mlws-bstollnitz\n",
            "\n"
          ]
        }
      ],
      "source": [
        "from azure.ai.ml import command, Input, Output\n",
        "\n",
        "TARGET_COLUMN_NAME = 'readmit_status'\n",
        "\n",
        "# Create the job.\n",
        "job = command(\n",
        "    description='Trains hospital readmission model',\n",
        "    experiment_name='hospital_readmission',\n",
        "    compute=COMPUTE_NAME,\n",
        "    inputs=dict(training_data=Input(type='uri_file', path=f'{TRAIN_DATA_NAME}@latest'), \n",
        "                target_column_name=TARGET_COLUMN_NAME),\n",
        "    outputs=dict(model_output=Output(type=AssetTypes.MLFLOW_MODEL)),\n",
        "    code='src/',\n",
        "    environment='azureml://registries/azureml/environments/AzureML-responsibleai-0.20-ubuntu20.04-py38-cpu/versions/4',\n",
        "    command='python train.py ' + \n",
        "            '--training_data ${{inputs.training_data}} ' +\n",
        "            '--target_column_name ${{inputs.target_column_name}} ' +\n",
        "            '--model_output ${{outputs.model_output}}'\n",
        ")\n",
        "job = ml_client.jobs.create_or_update(job)\n",
        "ml_client.jobs.stream(job.name)"
      ]
    },
    {
      "attachments": {},
      "cell_type": "markdown",
      "metadata": {},
      "source": [
        "## Task 6: Register the model"
      ]
    },
    {
      "cell_type": "code",
      "execution_count": null,
      "metadata": {},
      "outputs": [],
      "source": [
        "from azure.ai.ml.entities import Model\n",
        "\n",
        "MODEL_NAME = 'hospital_readmission_model'\n",
        "\n",
        "# Register the model.\n",
        "model_path = f\"azureml://jobs/{job.name}/outputs/model_output\"\n",
        "model = Model(name=MODEL_NAME,\n",
        "                path=model_path,\n",
        "                type=AssetTypes.MLFLOW_MODEL)\n",
        "registered_model = ml_client.models.create_or_update(model)"
      ]
    },
    {
      "attachments": {},
      "cell_type": "markdown",
      "metadata": {},
      "source": [
        "## Task 7: Deploy the model"
      ]
    },
    {
      "cell_type": "code",
      "execution_count": null,
      "metadata": {},
      "outputs": [
        {
          "name": "stderr",
          "output_type": "stream",
          "text": [
            "Check: endpoint hospital-readmission-endpoint exists\n",
            "data_collector is not a known attribute of class <class 'azure.ai.ml._restclient.v2022_02_01_preview.models._models_py3.ManagedOnlineDeployment'> and will be ignored\n",
            "Creating/updating online deployment blue "
          ]
        },
        {
          "name": "stdout",
          "output_type": "stream",
          "text": [
            "....................................."
          ]
        },
        {
          "name": "stderr",
          "output_type": "stream",
          "text": [
            "AzureCliCredential.get_token failed: Failed to invoke the Azure CLI\n"
          ]
        },
        {
          "ename": "CredentialUnavailableError",
          "evalue": "Failed to invoke the Azure CLI",
          "output_type": "error",
          "traceback": [
            "\u001b[0;31m---------------------------------------------------------------------------\u001b[0m",
            "\u001b[0;31mTimeoutExpired\u001b[0m                            Traceback (most recent call last)",
            "File \u001b[0;32m~/miniconda3/envs/build-2023/lib/python3.9/site-packages/azure/identity/_credentials/azure_cli.py:141\u001b[0m, in \u001b[0;36m_run_command\u001b[0;34m(command)\u001b[0m\n\u001b[1;32m    139\u001b[0m         kwargs[\u001b[39m\"\u001b[39m\u001b[39mtimeout\u001b[39m\u001b[39m\"\u001b[39m] \u001b[39m=\u001b[39m \u001b[39m10\u001b[39m\n\u001b[0;32m--> 141\u001b[0m     \u001b[39mreturn\u001b[39;00m subprocess\u001b[39m.\u001b[39;49mcheck_output(args, \u001b[39m*\u001b[39;49m\u001b[39m*\u001b[39;49mkwargs)\n\u001b[1;32m    142\u001b[0m \u001b[39mexcept\u001b[39;00m subprocess\u001b[39m.\u001b[39mCalledProcessError \u001b[39mas\u001b[39;00m ex:\n\u001b[1;32m    143\u001b[0m     \u001b[39m# non-zero return from shell\u001b[39;00m\n",
            "File \u001b[0;32m~/miniconda3/envs/build-2023/lib/python3.9/subprocess.py:424\u001b[0m, in \u001b[0;36mcheck_output\u001b[0;34m(timeout, *popenargs, **kwargs)\u001b[0m\n\u001b[1;32m    422\u001b[0m     kwargs[\u001b[39m'\u001b[39m\u001b[39minput\u001b[39m\u001b[39m'\u001b[39m] \u001b[39m=\u001b[39m empty\n\u001b[0;32m--> 424\u001b[0m \u001b[39mreturn\u001b[39;00m run(\u001b[39m*\u001b[39;49mpopenargs, stdout\u001b[39m=\u001b[39;49mPIPE, timeout\u001b[39m=\u001b[39;49mtimeout, check\u001b[39m=\u001b[39;49m\u001b[39mTrue\u001b[39;49;00m,\n\u001b[1;32m    425\u001b[0m            \u001b[39m*\u001b[39;49m\u001b[39m*\u001b[39;49mkwargs)\u001b[39m.\u001b[39mstdout\n",
            "File \u001b[0;32m~/miniconda3/envs/build-2023/lib/python3.9/subprocess.py:507\u001b[0m, in \u001b[0;36mrun\u001b[0;34m(input, capture_output, timeout, check, *popenargs, **kwargs)\u001b[0m\n\u001b[1;32m    506\u001b[0m \u001b[39mtry\u001b[39;00m:\n\u001b[0;32m--> 507\u001b[0m     stdout, stderr \u001b[39m=\u001b[39m process\u001b[39m.\u001b[39;49mcommunicate(\u001b[39minput\u001b[39;49m, timeout\u001b[39m=\u001b[39;49mtimeout)\n\u001b[1;32m    508\u001b[0m \u001b[39mexcept\u001b[39;00m TimeoutExpired \u001b[39mas\u001b[39;00m exc:\n",
            "File \u001b[0;32m~/miniconda3/envs/build-2023/lib/python3.9/subprocess.py:1134\u001b[0m, in \u001b[0;36mPopen.communicate\u001b[0;34m(self, input, timeout)\u001b[0m\n\u001b[1;32m   1133\u001b[0m \u001b[39mtry\u001b[39;00m:\n\u001b[0;32m-> 1134\u001b[0m     stdout, stderr \u001b[39m=\u001b[39m \u001b[39mself\u001b[39;49m\u001b[39m.\u001b[39;49m_communicate(\u001b[39minput\u001b[39;49m, endtime, timeout)\n\u001b[1;32m   1135\u001b[0m \u001b[39mexcept\u001b[39;00m \u001b[39mKeyboardInterrupt\u001b[39;00m:\n\u001b[1;32m   1136\u001b[0m     \u001b[39m# https://bugs.python.org/issue25942\u001b[39;00m\n\u001b[1;32m   1137\u001b[0m     \u001b[39m# See the detailed comment in .wait().\u001b[39;00m\n",
            "File \u001b[0;32m~/miniconda3/envs/build-2023/lib/python3.9/subprocess.py:1980\u001b[0m, in \u001b[0;36mPopen._communicate\u001b[0;34m(self, input, endtime, orig_timeout)\u001b[0m\n\u001b[1;32m   1979\u001b[0m ready \u001b[39m=\u001b[39m selector\u001b[39m.\u001b[39mselect(timeout)\n\u001b[0;32m-> 1980\u001b[0m \u001b[39mself\u001b[39;49m\u001b[39m.\u001b[39;49m_check_timeout(endtime, orig_timeout, stdout, stderr)\n\u001b[1;32m   1982\u001b[0m \u001b[39m# XXX Rewrite these to use non-blocking I/O on the file\u001b[39;00m\n\u001b[1;32m   1983\u001b[0m \u001b[39m# objects; they are no longer using C stdio!\u001b[39;00m\n",
            "File \u001b[0;32m~/miniconda3/envs/build-2023/lib/python3.9/subprocess.py:1178\u001b[0m, in \u001b[0;36mPopen._check_timeout\u001b[0;34m(self, endtime, orig_timeout, stdout_seq, stderr_seq, skip_check_and_raise)\u001b[0m\n\u001b[1;32m   1177\u001b[0m \u001b[39mif\u001b[39;00m skip_check_and_raise \u001b[39mor\u001b[39;00m _time() \u001b[39m>\u001b[39m endtime:\n\u001b[0;32m-> 1178\u001b[0m     \u001b[39mraise\u001b[39;00m TimeoutExpired(\n\u001b[1;32m   1179\u001b[0m             \u001b[39mself\u001b[39m\u001b[39m.\u001b[39margs, orig_timeout,\n\u001b[1;32m   1180\u001b[0m             output\u001b[39m=\u001b[39m\u001b[39mb\u001b[39m\u001b[39m'\u001b[39m\u001b[39m'\u001b[39m\u001b[39m.\u001b[39mjoin(stdout_seq) \u001b[39mif\u001b[39;00m stdout_seq \u001b[39melse\u001b[39;00m \u001b[39mNone\u001b[39;00m,\n\u001b[1;32m   1181\u001b[0m             stderr\u001b[39m=\u001b[39m\u001b[39mb\u001b[39m\u001b[39m'\u001b[39m\u001b[39m'\u001b[39m\u001b[39m.\u001b[39mjoin(stderr_seq) \u001b[39mif\u001b[39;00m stderr_seq \u001b[39melse\u001b[39;00m \u001b[39mNone\u001b[39;00m)\n",
            "\u001b[0;31mTimeoutExpired\u001b[0m: Command '['/bin/sh', '-c', 'az account get-access-token --output json --resource https://management.azure.com']' timed out after 10 seconds",
            "\nThe above exception was the direct cause of the following exception:\n",
            "\u001b[0;31mCredentialUnavailableError\u001b[0m                Traceback (most recent call last)",
            "Cell \u001b[0;32mIn[6], line 20\u001b[0m\n\u001b[1;32m     14\u001b[0m \u001b[39m# Create the managed online deployment.\u001b[39;00m\n\u001b[1;32m     15\u001b[0m deployment \u001b[39m=\u001b[39m ManagedOnlineDeployment(name\u001b[39m=\u001b[39mDEPLOYMENT_NAME,\n\u001b[1;32m     16\u001b[0m                                         endpoint_name\u001b[39m=\u001b[39mENDPOINT_NAME,\n\u001b[1;32m     17\u001b[0m                                         model\u001b[39m=\u001b[39mregistered_model,\n\u001b[1;32m     18\u001b[0m                                         instance_type\u001b[39m=\u001b[39m\u001b[39m'\u001b[39m\u001b[39mStandard_DS4_v2\u001b[39m\u001b[39m'\u001b[39m,\n\u001b[1;32m     19\u001b[0m                                         instance_count\u001b[39m=\u001b[39m\u001b[39m1\u001b[39m)\n\u001b[0;32m---> 20\u001b[0m ml_client\u001b[39m.\u001b[39;49monline_deployments\u001b[39m.\u001b[39;49mbegin_create_or_update(deployment)\n\u001b[1;32m     22\u001b[0m \u001b[39m# Set deployment traffic to 100%.\u001b[39;00m\n\u001b[1;32m     23\u001b[0m registered_endpoint\u001b[39m.\u001b[39mtraffic \u001b[39m=\u001b[39m {DEPLOYMENT_NAME: \u001b[39m100\u001b[39m}\n",
            "File \u001b[0;32m~/miniconda3/envs/build-2023/lib/python3.9/site-packages/azure/ai/ml/_telemetry/activity.py:260\u001b[0m, in \u001b[0;36mmonitor_with_activity.<locals>.monitor.<locals>.wrapper\u001b[0;34m(*args, **kwargs)\u001b[0m\n\u001b[1;32m    257\u001b[0m \u001b[39m@functools\u001b[39m\u001b[39m.\u001b[39mwraps(f)\n\u001b[1;32m    258\u001b[0m \u001b[39mdef\u001b[39;00m \u001b[39mwrapper\u001b[39m(\u001b[39m*\u001b[39margs, \u001b[39m*\u001b[39m\u001b[39m*\u001b[39mkwargs):\n\u001b[1;32m    259\u001b[0m     \u001b[39mwith\u001b[39;00m log_activity(logger, activity_name \u001b[39mor\u001b[39;00m f\u001b[39m.\u001b[39m\u001b[39m__name__\u001b[39m, activity_type, custom_dimensions):\n\u001b[0;32m--> 260\u001b[0m         \u001b[39mreturn\u001b[39;00m f(\u001b[39m*\u001b[39;49margs, \u001b[39m*\u001b[39;49m\u001b[39m*\u001b[39;49mkwargs)\n",
            "File \u001b[0;32m~/miniconda3/envs/build-2023/lib/python3.9/site-packages/azure/ai/ml/operations/_online_deployment_operations.py:159\u001b[0m, in \u001b[0;36mOnlineDeploymentOperations.begin_create_or_update\u001b[0;34m(self, deployment, local, vscode_debug, no_wait)\u001b[0m\n\u001b[1;32m    157\u001b[0m     log_and_raise_error(ex)\n\u001b[1;32m    158\u001b[0m \u001b[39melse\u001b[39;00m:\n\u001b[0;32m--> 159\u001b[0m     \u001b[39mraise\u001b[39;00m ex\n",
            "File \u001b[0;32m~/miniconda3/envs/build-2023/lib/python3.9/site-packages/azure/ai/ml/operations/_online_deployment_operations.py:154\u001b[0m, in \u001b[0;36mOnlineDeploymentOperations.begin_create_or_update\u001b[0;34m(self, deployment, local, vscode_debug, no_wait)\u001b[0m\n\u001b[1;32m    151\u001b[0m         polling_wait(poller\u001b[39m=\u001b[39mpoller, start_time\u001b[39m=\u001b[39mstart_time, message\u001b[39m=\u001b[39mmessage, timeout\u001b[39m=\u001b[39m\u001b[39mNone\u001b[39;00m)\n\u001b[1;32m    153\u001b[0m     \u001b[39mexcept\u001b[39;00m \u001b[39mException\u001b[39;00m \u001b[39mas\u001b[39;00m ex:\n\u001b[0;32m--> 154\u001b[0m         \u001b[39mraise\u001b[39;00m ex\n\u001b[1;32m    155\u001b[0m \u001b[39mexcept\u001b[39;00m \u001b[39mException\u001b[39;00m \u001b[39mas\u001b[39;00m ex:\n\u001b[1;32m    156\u001b[0m     \u001b[39mif\u001b[39;00m \u001b[39misinstance\u001b[39m(ex, (ValidationException, SchemaValidationError)):\n",
            "File \u001b[0;32m~/miniconda3/envs/build-2023/lib/python3.9/site-packages/azure/ai/ml/operations/_online_deployment_operations.py:151\u001b[0m, in \u001b[0;36mOnlineDeploymentOperations.begin_create_or_update\u001b[0;34m(self, deployment, local, vscode_debug, no_wait)\u001b[0m\n\u001b[1;32m    148\u001b[0m         \u001b[39mreturn\u001b[39;00m poller\n\u001b[1;32m    150\u001b[0m     message \u001b[39m=\u001b[39m \u001b[39mf\u001b[39m\u001b[39m\"\u001b[39m\u001b[39mCreating/updating online deployment \u001b[39m\u001b[39m{\u001b[39;00mdeployment\u001b[39m.\u001b[39mname\u001b[39m}\u001b[39;00m\u001b[39m \u001b[39m\u001b[39m\"\u001b[39m\n\u001b[0;32m--> 151\u001b[0m     polling_wait(poller\u001b[39m=\u001b[39;49mpoller, start_time\u001b[39m=\u001b[39;49mstart_time, message\u001b[39m=\u001b[39;49mmessage, timeout\u001b[39m=\u001b[39;49m\u001b[39mNone\u001b[39;49;00m)\n\u001b[1;32m    153\u001b[0m \u001b[39mexcept\u001b[39;00m \u001b[39mException\u001b[39;00m \u001b[39mas\u001b[39;00m ex:\n\u001b[1;32m    154\u001b[0m     \u001b[39mraise\u001b[39;00m ex\n",
            "File \u001b[0;32m~/miniconda3/envs/build-2023/lib/python3.9/site-packages/azure/ai/ml/_utils/_endpoint_utils.py:62\u001b[0m, in \u001b[0;36mpolling_wait\u001b[0;34m(poller, message, start_time, is_local, timeout)\u001b[0m\n\u001b[1;32m     60\u001b[0m         time\u001b[39m.\u001b[39msleep(LROConfigurations\u001b[39m.\u001b[39mSLEEP_TIME)\n\u001b[1;32m     61\u001b[0m \u001b[39melse\u001b[39;00m:\n\u001b[0;32m---> 62\u001b[0m     poller\u001b[39m.\u001b[39;49mresult(timeout\u001b[39m=\u001b[39;49mtimeout)\n\u001b[1;32m     64\u001b[0m \u001b[39mif\u001b[39;00m poller\u001b[39m.\u001b[39mdone():\n\u001b[1;32m     65\u001b[0m     module_logger\u001b[39m.\u001b[39mwarning(\u001b[39m\"\u001b[39m\u001b[39mDone \u001b[39m\u001b[39m\"\u001b[39m)\n",
            "File \u001b[0;32m~/miniconda3/envs/build-2023/lib/python3.9/site-packages/azure/core/polling/_poller.py:230\u001b[0m, in \u001b[0;36mLROPoller.result\u001b[0;34m(self, timeout)\u001b[0m\n\u001b[1;32m    222\u001b[0m \u001b[39mdef\u001b[39;00m \u001b[39mresult\u001b[39m(\u001b[39mself\u001b[39m, timeout: Optional[\u001b[39mfloat\u001b[39m] \u001b[39m=\u001b[39m \u001b[39mNone\u001b[39;00m) \u001b[39m-\u001b[39m\u001b[39m>\u001b[39m PollingReturnType:\n\u001b[1;32m    223\u001b[0m \u001b[39m    \u001b[39m\u001b[39m\"\"\"Return the result of the long running operation, or\u001b[39;00m\n\u001b[1;32m    224\u001b[0m \u001b[39m    the result available after the specified timeout.\u001b[39;00m\n\u001b[1;32m    225\u001b[0m \n\u001b[0;32m   (...)\u001b[0m\n\u001b[1;32m    228\u001b[0m \u001b[39m    :raises ~azure.core.exceptions.HttpResponseError: Server problem with the query.\u001b[39;00m\n\u001b[1;32m    229\u001b[0m \u001b[39m    \"\"\"\u001b[39;00m\n\u001b[0;32m--> 230\u001b[0m     \u001b[39mself\u001b[39;49m\u001b[39m.\u001b[39;49mwait(timeout)\n\u001b[1;32m    231\u001b[0m     \u001b[39mreturn\u001b[39;00m \u001b[39mself\u001b[39m\u001b[39m.\u001b[39m_polling_method\u001b[39m.\u001b[39mresource()\n",
            "File \u001b[0;32m~/miniconda3/envs/build-2023/lib/python3.9/site-packages/azure/core/tracing/decorator.py:76\u001b[0m, in \u001b[0;36mdistributed_trace.<locals>.decorator.<locals>.wrapper_use_tracer\u001b[0;34m(*args, **kwargs)\u001b[0m\n\u001b[1;32m     74\u001b[0m span_impl_type \u001b[39m=\u001b[39m settings\u001b[39m.\u001b[39mtracing_implementation()\n\u001b[1;32m     75\u001b[0m \u001b[39mif\u001b[39;00m span_impl_type \u001b[39mis\u001b[39;00m \u001b[39mNone\u001b[39;00m:\n\u001b[0;32m---> 76\u001b[0m     \u001b[39mreturn\u001b[39;00m func(\u001b[39m*\u001b[39;49margs, \u001b[39m*\u001b[39;49m\u001b[39m*\u001b[39;49mkwargs)\n\u001b[1;32m     78\u001b[0m \u001b[39m# Merge span is parameter is set, but only if no explicit parent are passed\u001b[39;00m\n\u001b[1;32m     79\u001b[0m \u001b[39mif\u001b[39;00m merge_span \u001b[39mand\u001b[39;00m \u001b[39mnot\u001b[39;00m passed_in_parent:\n",
            "File \u001b[0;32m~/miniconda3/envs/build-2023/lib/python3.9/site-packages/azure/core/polling/_poller.py:249\u001b[0m, in \u001b[0;36mLROPoller.wait\u001b[0;34m(self, timeout)\u001b[0m\n\u001b[1;32m    245\u001b[0m \u001b[39mself\u001b[39m\u001b[39m.\u001b[39m_thread\u001b[39m.\u001b[39mjoin(timeout\u001b[39m=\u001b[39mtimeout)\n\u001b[1;32m    246\u001b[0m \u001b[39mtry\u001b[39;00m:\n\u001b[1;32m    247\u001b[0m     \u001b[39m# Let's handle possible None in forgiveness here\u001b[39;00m\n\u001b[1;32m    248\u001b[0m     \u001b[39m# https://github.com/python/mypy/issues/8165\u001b[39;00m\n\u001b[0;32m--> 249\u001b[0m     \u001b[39mraise\u001b[39;00m \u001b[39mself\u001b[39m\u001b[39m.\u001b[39m_exception  \u001b[39m# type: ignore\u001b[39;00m\n\u001b[1;32m    250\u001b[0m \u001b[39mexcept\u001b[39;00m \u001b[39mTypeError\u001b[39;00m:  \u001b[39m# Was None\u001b[39;00m\n\u001b[1;32m    251\u001b[0m     \u001b[39mpass\u001b[39;00m\n",
            "File \u001b[0;32m~/miniconda3/envs/build-2023/lib/python3.9/site-packages/azure/core/polling/_poller.py:169\u001b[0m, in \u001b[0;36mLROPoller._start\u001b[0;34m(self)\u001b[0m\n\u001b[1;32m    162\u001b[0m \u001b[39m\u001b[39m\u001b[39m\"\"\"Start the long running operation.\u001b[39;00m\n\u001b[1;32m    163\u001b[0m \u001b[39mOn completion, runs any callbacks.\u001b[39;00m\n\u001b[1;32m    164\u001b[0m \n\u001b[1;32m    165\u001b[0m \u001b[39m:param callable update_cmd: The API request to check the status of\u001b[39;00m\n\u001b[1;32m    166\u001b[0m \u001b[39m the operation.\u001b[39;00m\n\u001b[1;32m    167\u001b[0m \u001b[39m\"\"\"\u001b[39;00m\n\u001b[1;32m    168\u001b[0m \u001b[39mtry\u001b[39;00m:\n\u001b[0;32m--> 169\u001b[0m     \u001b[39mself\u001b[39;49m\u001b[39m.\u001b[39;49m_polling_method\u001b[39m.\u001b[39;49mrun()\n\u001b[1;32m    170\u001b[0m \u001b[39mexcept\u001b[39;00m AzureError \u001b[39mas\u001b[39;00m error:\n\u001b[1;32m    171\u001b[0m     \u001b[39mif\u001b[39;00m \u001b[39mnot\u001b[39;00m error\u001b[39m.\u001b[39mcontinuation_token:\n",
            "File \u001b[0;32m~/miniconda3/envs/build-2023/lib/python3.9/site-packages/azure/core/polling/base_polling.py:466\u001b[0m, in \u001b[0;36mLROBasePolling.run\u001b[0;34m(self)\u001b[0m\n\u001b[1;32m    464\u001b[0m \u001b[39mdef\u001b[39;00m \u001b[39mrun\u001b[39m(\u001b[39mself\u001b[39m):\n\u001b[1;32m    465\u001b[0m     \u001b[39mtry\u001b[39;00m:\n\u001b[0;32m--> 466\u001b[0m         \u001b[39mself\u001b[39;49m\u001b[39m.\u001b[39;49m_poll()\n\u001b[1;32m    468\u001b[0m     \u001b[39mexcept\u001b[39;00m BadStatus \u001b[39mas\u001b[39;00m err:\n\u001b[1;32m    469\u001b[0m         \u001b[39mself\u001b[39m\u001b[39m.\u001b[39m_status \u001b[39m=\u001b[39m \u001b[39m\"\u001b[39m\u001b[39mFailed\u001b[39m\u001b[39m\"\u001b[39m\n",
            "File \u001b[0;32m~/miniconda3/envs/build-2023/lib/python3.9/site-packages/azure/core/polling/base_polling.py:497\u001b[0m, in \u001b[0;36mLROBasePolling._poll\u001b[0;34m(self)\u001b[0m\n\u001b[1;32m    495\u001b[0m \u001b[39mwhile\u001b[39;00m \u001b[39mnot\u001b[39;00m \u001b[39mself\u001b[39m\u001b[39m.\u001b[39mfinished():\n\u001b[1;32m    496\u001b[0m     \u001b[39mself\u001b[39m\u001b[39m.\u001b[39m_delay()\n\u001b[0;32m--> 497\u001b[0m     \u001b[39mself\u001b[39;49m\u001b[39m.\u001b[39;49mupdate_status()\n\u001b[1;32m    499\u001b[0m \u001b[39mif\u001b[39;00m _failed(\u001b[39mself\u001b[39m\u001b[39m.\u001b[39mstatus()):\n\u001b[1;32m    500\u001b[0m     \u001b[39mraise\u001b[39;00m OperationFailed(\u001b[39m\"\u001b[39m\u001b[39mOperation failed or canceled\u001b[39m\u001b[39m\"\u001b[39m)\n",
            "File \u001b[0;32m~/miniconda3/envs/build-2023/lib/python3.9/site-packages/azure/ai/ml/_utils/_azureml_polling.py:23\u001b[0m, in \u001b[0;36mAzureMLPolling.update_status\u001b[0;34m(self)\u001b[0m\n\u001b[1;32m     21\u001b[0m \u001b[39mdef\u001b[39;00m \u001b[39mupdate_status\u001b[39m(\u001b[39mself\u001b[39m):\n\u001b[1;32m     22\u001b[0m \u001b[39m    \u001b[39m\u001b[39m\"\"\"Update the current status of the LRO.\"\"\"\u001b[39;00m\n\u001b[0;32m---> 23\u001b[0m     \u001b[39msuper\u001b[39;49m()\u001b[39m.\u001b[39;49mupdate_status()\n\u001b[1;32m     24\u001b[0m     \u001b[39mprint\u001b[39m(\u001b[39m\"\u001b[39m\u001b[39m.\u001b[39m\u001b[39m\"\u001b[39m, end\u001b[39m=\u001b[39m\u001b[39m\"\u001b[39m\u001b[39m\"\u001b[39m, flush\u001b[39m=\u001b[39m\u001b[39mTrue\u001b[39;00m)\n",
            "File \u001b[0;32m~/miniconda3/envs/build-2023/lib/python3.9/site-packages/azure/core/polling/base_polling.py:536\u001b[0m, in \u001b[0;36mLROBasePolling.update_status\u001b[0;34m(self)\u001b[0m\n\u001b[1;32m    534\u001b[0m \u001b[39mdef\u001b[39;00m \u001b[39mupdate_status\u001b[39m(\u001b[39mself\u001b[39m):\n\u001b[1;32m    535\u001b[0m \u001b[39m    \u001b[39m\u001b[39m\"\"\"Update the current status of the LRO.\"\"\"\u001b[39;00m\n\u001b[0;32m--> 536\u001b[0m     \u001b[39mself\u001b[39m\u001b[39m.\u001b[39m_pipeline_response \u001b[39m=\u001b[39m \u001b[39mself\u001b[39;49m\u001b[39m.\u001b[39;49mrequest_status(\u001b[39mself\u001b[39;49m\u001b[39m.\u001b[39;49m_operation\u001b[39m.\u001b[39;49mget_polling_url())\n\u001b[1;32m    537\u001b[0m     _raise_if_bad_http_status_and_method(\u001b[39mself\u001b[39m\u001b[39m.\u001b[39m_pipeline_response\u001b[39m.\u001b[39mhttp_response)\n\u001b[1;32m    538\u001b[0m     \u001b[39mself\u001b[39m\u001b[39m.\u001b[39m_status \u001b[39m=\u001b[39m \u001b[39mself\u001b[39m\u001b[39m.\u001b[39m_operation\u001b[39m.\u001b[39mget_status(\u001b[39mself\u001b[39m\u001b[39m.\u001b[39m_pipeline_response)\n",
            "File \u001b[0;32m~/miniconda3/envs/build-2023/lib/python3.9/site-packages/azure/core/polling/base_polling.py:564\u001b[0m, in \u001b[0;36mLROBasePolling.request_status\u001b[0;34m(self, status_link)\u001b[0m\n\u001b[1;32m    562\u001b[0m \u001b[39m# if I am a azure.core.pipeline.transport.HttpResponse\u001b[39;00m\n\u001b[1;32m    563\u001b[0m request \u001b[39m=\u001b[39m \u001b[39mself\u001b[39m\u001b[39m.\u001b[39m_client\u001b[39m.\u001b[39mget(status_link)\n\u001b[0;32m--> 564\u001b[0m \u001b[39mreturn\u001b[39;00m \u001b[39mself\u001b[39;49m\u001b[39m.\u001b[39;49m_client\u001b[39m.\u001b[39;49m_pipeline\u001b[39m.\u001b[39;49mrun(  \u001b[39m# pylint: disable=protected-access\u001b[39;49;00m\n\u001b[1;32m    565\u001b[0m     request, stream\u001b[39m=\u001b[39;49m\u001b[39mFalse\u001b[39;49;00m, \u001b[39m*\u001b[39;49m\u001b[39m*\u001b[39;49m\u001b[39mself\u001b[39;49m\u001b[39m.\u001b[39;49m_operation_config\n\u001b[1;32m    566\u001b[0m )\n",
            "File \u001b[0;32m~/miniconda3/envs/build-2023/lib/python3.9/site-packages/azure/core/pipeline/_base.py:202\u001b[0m, in \u001b[0;36mPipeline.run\u001b[0;34m(self, request, **kwargs)\u001b[0m\n\u001b[1;32m    200\u001b[0m pipeline_request: PipelineRequest[HTTPRequestType] \u001b[39m=\u001b[39m PipelineRequest(request, context)\n\u001b[1;32m    201\u001b[0m first_node \u001b[39m=\u001b[39m \u001b[39mself\u001b[39m\u001b[39m.\u001b[39m_impl_policies[\u001b[39m0\u001b[39m] \u001b[39mif\u001b[39;00m \u001b[39mself\u001b[39m\u001b[39m.\u001b[39m_impl_policies \u001b[39melse\u001b[39;00m _TransportRunner(\u001b[39mself\u001b[39m\u001b[39m.\u001b[39m_transport)\n\u001b[0;32m--> 202\u001b[0m \u001b[39mreturn\u001b[39;00m first_node\u001b[39m.\u001b[39;49msend(pipeline_request)\n",
            "File \u001b[0;32m~/miniconda3/envs/build-2023/lib/python3.9/site-packages/azure/core/pipeline/_base.py:70\u001b[0m, in \u001b[0;36m_SansIOHTTPPolicyRunner.send\u001b[0;34m(self, request)\u001b[0m\n\u001b[1;32m     68\u001b[0m _await_result(\u001b[39mself\u001b[39m\u001b[39m.\u001b[39m_policy\u001b[39m.\u001b[39mon_request, request)\n\u001b[1;32m     69\u001b[0m \u001b[39mtry\u001b[39;00m:\n\u001b[0;32m---> 70\u001b[0m     response \u001b[39m=\u001b[39m \u001b[39mself\u001b[39;49m\u001b[39m.\u001b[39;49mnext\u001b[39m.\u001b[39;49msend(request)\n\u001b[1;32m     71\u001b[0m \u001b[39mexcept\u001b[39;00m \u001b[39mException\u001b[39;00m:  \u001b[39m# pylint: disable=broad-except\u001b[39;00m\n\u001b[1;32m     72\u001b[0m     _await_result(\u001b[39mself\u001b[39m\u001b[39m.\u001b[39m_policy\u001b[39m.\u001b[39mon_exception, request)\n",
            "File \u001b[0;32m~/miniconda3/envs/build-2023/lib/python3.9/site-packages/azure/core/pipeline/_base.py:70\u001b[0m, in \u001b[0;36m_SansIOHTTPPolicyRunner.send\u001b[0;34m(self, request)\u001b[0m\n\u001b[1;32m     68\u001b[0m _await_result(\u001b[39mself\u001b[39m\u001b[39m.\u001b[39m_policy\u001b[39m.\u001b[39mon_request, request)\n\u001b[1;32m     69\u001b[0m \u001b[39mtry\u001b[39;00m:\n\u001b[0;32m---> 70\u001b[0m     response \u001b[39m=\u001b[39m \u001b[39mself\u001b[39;49m\u001b[39m.\u001b[39;49mnext\u001b[39m.\u001b[39;49msend(request)\n\u001b[1;32m     71\u001b[0m \u001b[39mexcept\u001b[39;00m \u001b[39mException\u001b[39;00m:  \u001b[39m# pylint: disable=broad-except\u001b[39;00m\n\u001b[1;32m     72\u001b[0m     _await_result(\u001b[39mself\u001b[39m\u001b[39m.\u001b[39m_policy\u001b[39m.\u001b[39mon_exception, request)\n",
            "    \u001b[0;31m[... skipping similar frames: _SansIOHTTPPolicyRunner.send at line 70 (2 times)]\u001b[0m\n",
            "File \u001b[0;32m~/miniconda3/envs/build-2023/lib/python3.9/site-packages/azure/core/pipeline/_base.py:70\u001b[0m, in \u001b[0;36m_SansIOHTTPPolicyRunner.send\u001b[0;34m(self, request)\u001b[0m\n\u001b[1;32m     68\u001b[0m _await_result(\u001b[39mself\u001b[39m\u001b[39m.\u001b[39m_policy\u001b[39m.\u001b[39mon_request, request)\n\u001b[1;32m     69\u001b[0m \u001b[39mtry\u001b[39;00m:\n\u001b[0;32m---> 70\u001b[0m     response \u001b[39m=\u001b[39m \u001b[39mself\u001b[39;49m\u001b[39m.\u001b[39;49mnext\u001b[39m.\u001b[39;49msend(request)\n\u001b[1;32m     71\u001b[0m \u001b[39mexcept\u001b[39;00m \u001b[39mException\u001b[39;00m:  \u001b[39m# pylint: disable=broad-except\u001b[39;00m\n\u001b[1;32m     72\u001b[0m     _await_result(\u001b[39mself\u001b[39m\u001b[39m.\u001b[39m_policy\u001b[39m.\u001b[39mon_exception, request)\n",
            "File \u001b[0;32m~/miniconda3/envs/build-2023/lib/python3.9/site-packages/azure/mgmt/core/policies/_base.py:46\u001b[0m, in \u001b[0;36mARMAutoResourceProviderRegistrationPolicy.send\u001b[0;34m(self, request)\u001b[0m\n\u001b[1;32m     43\u001b[0m \u001b[39mdef\u001b[39;00m \u001b[39msend\u001b[39m(\u001b[39mself\u001b[39m, request):\n\u001b[1;32m     44\u001b[0m     \u001b[39m# type: (PipelineRequest[HTTPRequestType], Any) -> PipelineResponse[HTTPRequestType, HTTPResponseType]\u001b[39;00m\n\u001b[1;32m     45\u001b[0m     http_request \u001b[39m=\u001b[39m request\u001b[39m.\u001b[39mhttp_request\n\u001b[0;32m---> 46\u001b[0m     response \u001b[39m=\u001b[39m \u001b[39mself\u001b[39;49m\u001b[39m.\u001b[39;49mnext\u001b[39m.\u001b[39;49msend(request)\n\u001b[1;32m     47\u001b[0m     \u001b[39mif\u001b[39;00m response\u001b[39m.\u001b[39mhttp_response\u001b[39m.\u001b[39mstatus_code \u001b[39m==\u001b[39m \u001b[39m409\u001b[39m:\n\u001b[1;32m     48\u001b[0m         rp_name \u001b[39m=\u001b[39m \u001b[39mself\u001b[39m\u001b[39m.\u001b[39m_check_rp_not_registered_err(response)\n",
            "File \u001b[0;32m~/miniconda3/envs/build-2023/lib/python3.9/site-packages/azure/core/pipeline/policies/_redirect.py:156\u001b[0m, in \u001b[0;36mRedirectPolicy.send\u001b[0;34m(self, request)\u001b[0m\n\u001b[1;32m    154\u001b[0m redirect_settings \u001b[39m=\u001b[39m \u001b[39mself\u001b[39m\u001b[39m.\u001b[39mconfigure_redirects(request\u001b[39m.\u001b[39mcontext\u001b[39m.\u001b[39moptions)\n\u001b[1;32m    155\u001b[0m \u001b[39mwhile\u001b[39;00m retryable:\n\u001b[0;32m--> 156\u001b[0m     response \u001b[39m=\u001b[39m \u001b[39mself\u001b[39;49m\u001b[39m.\u001b[39;49mnext\u001b[39m.\u001b[39;49msend(request)\n\u001b[1;32m    157\u001b[0m     redirect_location \u001b[39m=\u001b[39m \u001b[39mself\u001b[39m\u001b[39m.\u001b[39mget_redirect_location(response)\n\u001b[1;32m    158\u001b[0m     \u001b[39mif\u001b[39;00m redirect_location \u001b[39mand\u001b[39;00m redirect_settings[\u001b[39m\"\u001b[39m\u001b[39mallow\u001b[39m\u001b[39m\"\u001b[39m]:\n",
            "File \u001b[0;32m~/miniconda3/envs/build-2023/lib/python3.9/site-packages/azure/core/pipeline/policies/_retry.py:448\u001b[0m, in \u001b[0;36mRetryPolicy.send\u001b[0;34m(self, request)\u001b[0m\n\u001b[1;32m    446\u001b[0m start_time \u001b[39m=\u001b[39m time\u001b[39m.\u001b[39mtime()\n\u001b[1;32m    447\u001b[0m \u001b[39mself\u001b[39m\u001b[39m.\u001b[39m_configure_timeout(request, absolute_timeout, is_response_error)\n\u001b[0;32m--> 448\u001b[0m response \u001b[39m=\u001b[39m \u001b[39mself\u001b[39;49m\u001b[39m.\u001b[39;49mnext\u001b[39m.\u001b[39;49msend(request)\n\u001b[1;32m    449\u001b[0m \u001b[39mif\u001b[39;00m \u001b[39mself\u001b[39m\u001b[39m.\u001b[39mis_retry(retry_settings, response):\n\u001b[1;32m    450\u001b[0m     retry_active \u001b[39m=\u001b[39m \u001b[39mself\u001b[39m\u001b[39m.\u001b[39mincrement(retry_settings, response\u001b[39m=\u001b[39mresponse)\n",
            "File \u001b[0;32m~/miniconda3/envs/build-2023/lib/python3.9/site-packages/azure/core/pipeline/policies/_authentication.py:108\u001b[0m, in \u001b[0;36mBearerTokenCredentialPolicy.send\u001b[0;34m(self, request)\u001b[0m\n\u001b[1;32m    102\u001b[0m \u001b[39mdef\u001b[39;00m \u001b[39msend\u001b[39m(\u001b[39mself\u001b[39m, request: \u001b[39m\"\u001b[39m\u001b[39mPipelineRequest\u001b[39m\u001b[39m\"\u001b[39m) \u001b[39m-\u001b[39m\u001b[39m>\u001b[39m \u001b[39m\"\u001b[39m\u001b[39mPipelineResponse\u001b[39m\u001b[39m\"\u001b[39m:\n\u001b[1;32m    103\u001b[0m \u001b[39m    \u001b[39m\u001b[39m\"\"\"Authorize request with a bearer token and send it to the next policy\u001b[39;00m\n\u001b[1;32m    104\u001b[0m \n\u001b[1;32m    105\u001b[0m \u001b[39m    :param request: The pipeline request object\u001b[39;00m\n\u001b[1;32m    106\u001b[0m \u001b[39m    :type request: ~azure.core.pipeline.PipelineRequest\u001b[39;00m\n\u001b[1;32m    107\u001b[0m \u001b[39m    \"\"\"\u001b[39;00m\n\u001b[0;32m--> 108\u001b[0m     \u001b[39mself\u001b[39;49m\u001b[39m.\u001b[39;49mon_request(request)\n\u001b[1;32m    109\u001b[0m     \u001b[39mtry\u001b[39;00m:\n\u001b[1;32m    110\u001b[0m         response \u001b[39m=\u001b[39m \u001b[39mself\u001b[39m\u001b[39m.\u001b[39mnext\u001b[39m.\u001b[39msend(request)\n",
            "File \u001b[0;32m~/miniconda3/envs/build-2023/lib/python3.9/site-packages/azure/core/pipeline/policies/_authentication.py:87\u001b[0m, in \u001b[0;36mBearerTokenCredentialPolicy.on_request\u001b[0;34m(self, request)\u001b[0m\n\u001b[1;32m     84\u001b[0m \u001b[39mself\u001b[39m\u001b[39m.\u001b[39m_enforce_https(request)\n\u001b[1;32m     86\u001b[0m \u001b[39mif\u001b[39;00m \u001b[39mself\u001b[39m\u001b[39m.\u001b[39m_token \u001b[39mis\u001b[39;00m \u001b[39mNone\u001b[39;00m \u001b[39mor\u001b[39;00m \u001b[39mself\u001b[39m\u001b[39m.\u001b[39m_need_new_token:\n\u001b[0;32m---> 87\u001b[0m     \u001b[39mself\u001b[39m\u001b[39m.\u001b[39m_token \u001b[39m=\u001b[39m \u001b[39mself\u001b[39;49m\u001b[39m.\u001b[39;49m_credential\u001b[39m.\u001b[39;49mget_token(\u001b[39m*\u001b[39;49m\u001b[39mself\u001b[39;49m\u001b[39m.\u001b[39;49m_scopes)\n\u001b[1;32m     88\u001b[0m \u001b[39mself\u001b[39m\u001b[39m.\u001b[39m_update_headers(request\u001b[39m.\u001b[39mhttp_request\u001b[39m.\u001b[39mheaders, \u001b[39mself\u001b[39m\u001b[39m.\u001b[39m_token\u001b[39m.\u001b[39mtoken)\n",
            "File \u001b[0;32m~/miniconda3/envs/build-2023/lib/python3.9/site-packages/azure/identity/_credentials/default.py:166\u001b[0m, in \u001b[0;36mDefaultAzureCredential.get_token\u001b[0;34m(self, *scopes, **kwargs)\u001b[0m\n\u001b[1;32m    153\u001b[0m \u001b[39m\u001b[39m\u001b[39m\"\"\"Request an access token for `scopes`.\u001b[39;00m\n\u001b[1;32m    154\u001b[0m \n\u001b[1;32m    155\u001b[0m \u001b[39mThis method is called automatically by Azure SDK clients.\u001b[39;00m\n\u001b[0;32m   (...)\u001b[0m\n\u001b[1;32m    163\u001b[0m \u001b[39m  `message` attribute listing each authentication attempt and its error message.\u001b[39;00m\n\u001b[1;32m    164\u001b[0m \u001b[39m\"\"\"\u001b[39;00m\n\u001b[1;32m    165\u001b[0m \u001b[39mif\u001b[39;00m \u001b[39mself\u001b[39m\u001b[39m.\u001b[39m_successful_credential:\n\u001b[0;32m--> 166\u001b[0m     token \u001b[39m=\u001b[39m \u001b[39mself\u001b[39;49m\u001b[39m.\u001b[39;49m_successful_credential\u001b[39m.\u001b[39;49mget_token(\u001b[39m*\u001b[39;49mscopes, \u001b[39m*\u001b[39;49m\u001b[39m*\u001b[39;49mkwargs)\n\u001b[1;32m    167\u001b[0m     _LOGGER\u001b[39m.\u001b[39minfo(\n\u001b[1;32m    168\u001b[0m         \u001b[39m\"\u001b[39m\u001b[39m%s\u001b[39;00m\u001b[39m acquired a token from \u001b[39m\u001b[39m%s\u001b[39;00m\u001b[39m\"\u001b[39m, \u001b[39mself\u001b[39m\u001b[39m.\u001b[39m\u001b[39m__class__\u001b[39m\u001b[39m.\u001b[39m\u001b[39m__name__\u001b[39m, \u001b[39mself\u001b[39m\u001b[39m.\u001b[39m_successful_credential\u001b[39m.\u001b[39m\u001b[39m__class__\u001b[39m\u001b[39m.\u001b[39m\u001b[39m__name__\u001b[39m\n\u001b[1;32m    169\u001b[0m     )\n\u001b[1;32m    170\u001b[0m     \u001b[39mreturn\u001b[39;00m token\n",
            "File \u001b[0;32m~/miniconda3/envs/build-2023/lib/python3.9/site-packages/azure/identity/_internal/decorators.py:30\u001b[0m, in \u001b[0;36mlog_get_token.<locals>.decorator.<locals>.wrapper\u001b[0;34m(*args, **kwargs)\u001b[0m\n\u001b[1;32m     27\u001b[0m \u001b[39m@functools\u001b[39m\u001b[39m.\u001b[39mwraps(fn)\n\u001b[1;32m     28\u001b[0m \u001b[39mdef\u001b[39;00m \u001b[39mwrapper\u001b[39m(\u001b[39m*\u001b[39margs, \u001b[39m*\u001b[39m\u001b[39m*\u001b[39mkwargs):\n\u001b[1;32m     29\u001b[0m     \u001b[39mtry\u001b[39;00m:\n\u001b[0;32m---> 30\u001b[0m         token \u001b[39m=\u001b[39m fn(\u001b[39m*\u001b[39;49margs, \u001b[39m*\u001b[39;49m\u001b[39m*\u001b[39;49mkwargs)\n\u001b[1;32m     31\u001b[0m         _LOGGER\u001b[39m.\u001b[39mlog(\n\u001b[1;32m     32\u001b[0m             logging\u001b[39m.\u001b[39mDEBUG \u001b[39mif\u001b[39;00m within_credential_chain\u001b[39m.\u001b[39mget() \u001b[39melse\u001b[39;00m logging\u001b[39m.\u001b[39mINFO, \u001b[39m\"\u001b[39m\u001b[39m%s\u001b[39;00m\u001b[39m succeeded\u001b[39m\u001b[39m\"\u001b[39m, qualified_name\n\u001b[1;32m     33\u001b[0m         )\n\u001b[1;32m     34\u001b[0m         \u001b[39mreturn\u001b[39;00m token\n",
            "File \u001b[0;32m~/miniconda3/envs/build-2023/lib/python3.9/site-packages/azure/identity/_credentials/azure_cli.py:73\u001b[0m, in \u001b[0;36mAzureCliCredential.get_token\u001b[0;34m(self, *scopes, **kwargs)\u001b[0m\n\u001b[1;32m     71\u001b[0m \u001b[39mif\u001b[39;00m tenant:\n\u001b[1;32m     72\u001b[0m     command \u001b[39m+\u001b[39m\u001b[39m=\u001b[39m \u001b[39m\"\u001b[39m\u001b[39m --tenant \u001b[39m\u001b[39m\"\u001b[39m \u001b[39m+\u001b[39m tenant\n\u001b[0;32m---> 73\u001b[0m output \u001b[39m=\u001b[39m _run_command(command)\n\u001b[1;32m     75\u001b[0m token \u001b[39m=\u001b[39m parse_token(output)\n\u001b[1;32m     76\u001b[0m \u001b[39mif\u001b[39;00m \u001b[39mnot\u001b[39;00m token:\n",
            "File \u001b[0;32m~/miniconda3/envs/build-2023/lib/python3.9/site-packages/azure/identity/_credentials/azure_cli.py:162\u001b[0m, in \u001b[0;36m_run_command\u001b[0;34m(command)\u001b[0m\n\u001b[1;32m    159\u001b[0m \u001b[39mexcept\u001b[39;00m \u001b[39mException\u001b[39;00m \u001b[39mas\u001b[39;00m ex:  \u001b[39m# pylint:disable=broad-except\u001b[39;00m\n\u001b[1;32m    160\u001b[0m     \u001b[39m# could be a timeout, for example\u001b[39;00m\n\u001b[1;32m    161\u001b[0m     error \u001b[39m=\u001b[39m CredentialUnavailableError(message\u001b[39m=\u001b[39m\u001b[39m\"\u001b[39m\u001b[39mFailed to invoke the Azure CLI\u001b[39m\u001b[39m\"\u001b[39m)\n\u001b[0;32m--> 162\u001b[0m     six\u001b[39m.\u001b[39;49mraise_from(error, ex)\n",
            "File \u001b[0;32m<string>:3\u001b[0m, in \u001b[0;36mraise_from\u001b[0;34m(value, from_value)\u001b[0m\n",
            "\u001b[0;31mCredentialUnavailableError\u001b[0m: Failed to invoke the Azure CLI"
          ]
        }
      ],
      "source": [
        "from azure.ai.ml.entities import ManagedOnlineDeployment, ManagedOnlineEndpoint \n",
        "\n",
        "ENDPOINT_NAME = 'hospital-readmission-endpoint'\n",
        "DEPLOYMENT_NAME = 'blue'\n",
        "\n",
        "# Create the managed online endpoint.\n",
        "endpoint = ManagedOnlineEndpoint(\n",
        "    name=ENDPOINT_NAME,\n",
        "    auth_mode='key',\n",
        ")\n",
        "registered_endpoint = ml_client.online_endpoints.begin_create_or_update(\n",
        "    endpoint)\n",
        "\n",
        "# Create the managed online deployment.\n",
        "deployment = ManagedOnlineDeployment(name=DEPLOYMENT_NAME,\n",
        "                                        endpoint_name=ENDPOINT_NAME,\n",
        "                                        model=registered_model,\n",
        "                                        instance_type='Standard_DS4_v2',\n",
        "                                        instance_count=1)\n",
        "ml_client.online_deployments.begin_create_or_update(deployment)\n",
        "\n",
        "# Set deployment traffic to 100%.\n",
        "registered_endpoint.traffic = {DEPLOYMENT_NAME: 100}\n",
        "ml_client.online_endpoints.begin_create_or_update(\n",
        "    registered_endpoint)"
      ]
    },
    {
      "attachments": {},
      "cell_type": "markdown",
      "metadata": {},
      "source": [
        "## Task 8: Invoke the endpoint"
      ]
    },
    {
      "cell_type": "code",
      "execution_count": null,
      "metadata": {},
      "outputs": [
        {
          "name": "stdout",
          "output_type": "stream",
          "text": [
            "[\"not readmitted\"]\n"
          ]
        }
      ],
      "source": [
        "TEST_DATA_PATH=\"test_data.json\"\n",
        "\n",
        "# Invoke the endpoint.\n",
        "result = ml_client.online_endpoints.invoke(endpoint_name=ENDPOINT_NAME, request_file=TEST_DATA_PATH)\n",
        "print(result)"
      ]
    }
  ],
  "metadata": {
    "kernel_info": {
      "name": "python3"
    },
    "kernelspec": {
      "display_name": "Python 3 (ipykernel)",
      "language": "python",
      "name": "python3"
    },
    "language_info": {
      "codemirror_mode": {
        "name": "ipython",
        "version": 3
      },
      "file_extension": ".py",
      "mimetype": "text/x-python",
      "name": "python",
      "nbconvert_exporter": "python",
      "pygments_lexer": "ipython3",
      "version": "3.9.12"
    },
    "microsoft": {
      "host": {
        "AzureML": {
          "notebookHasBeenCompleted": true
        }
      },
      "ms_spell_check": {
        "ms_spell_check_language": "en"
      }
    },
    "nteract": {
      "version": "nteract-front-end@1.0.0"
    }
  },
  "nbformat": 4,
  "nbformat_minor": 1
}
